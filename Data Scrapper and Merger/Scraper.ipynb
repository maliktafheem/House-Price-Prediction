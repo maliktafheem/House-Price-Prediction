{
  "cells": [
    {
      "cell_type": "code",
      "execution_count": 2,
      "metadata": {
        "id": "kdmuhUWGwh91"
      },
      "outputs": [],
      "source": [
        "# importing relevent libraries.\n",
        "import requests\n",
        "import re\n",
        "import math\n",
        "from bs4 import BeautifulSoup\n",
        "from datetime import datetime, timedelta\n",
        "import pandas as pd\n",
        "import os\n"
      ]
    },
    {
      "cell_type": "code",
      "execution_count": null,
      "metadata": {
        "colab": {
          "base_uri": "https://localhost:8080/"
        },
        "id": "GRgO8Oaewtxk",
        "outputId": "4d57786b-abd8-4d35-d86c-9c22db471624"
      },
      "outputs": [],
      "source": [
        "links = []\n",
        "cities = {'Karachi': 'Karachi-2-1', 'Islamabad': 'Islamabad-3-1',\n",
        "          'Lahore': 'Lahore-1-1', 'Rawalpindi': 'Rawalpindi-41-1'}\n",
        "city = 'Karachi'\n",
        "for x in range(1, 100):\n",
        "    link1 = \"https://www.zameen.com/Flats_Apartments/\"+cities[city]+\".html\"\n",
        "    link2 = \"https://www.zameen.com/Houses_Property/\"+cities[city]+\".html\"\n",
        "    link3 = \"https://www.zameen.com/Rentals_Houses_Property/\" + \\\n",
        "        cities[city]+\".html\"\n",
        "    link4 = \"https://www.zameen.com/Rentals_Flats_Apartments/\" + \\\n",
        "        cities[city]+\".html\"\n",
        "    link1 = link1[:-6] + str(x) + link1[-6+1:]\n",
        "    links.append(link1)\n",
        "    link2 = link2[:-6] + str(x) + link2[-6+1:]\n",
        "    links.append(link2)\n",
        "    link3 = link3[:-6] + str(x) + link3[-6+1:]\n",
        "    links.append(link3)\n",
        "    link4 = link4[:-6] + str(x) + link4[-6+1:]\n",
        "    links.append(link4)\n"
      ]
    },
    {
      "cell_type": "code",
      "execution_count": null,
      "metadata": {
        "id": "WTOeB308xp7Z"
      },
      "outputs": [],
      "source": [
        "pages = []\n",
        "for x in range(len(links)):\n",
        "    page = requests.get(links[x])\n",
        "    soup = BeautifulSoup(page.content, 'html.parser')\n",
        "    pages.append(soup)\n"
      ]
    },
    {
      "cell_type": "code",
      "execution_count": null,
      "metadata": {
        "colab": {
          "base_uri": "https://localhost:8080/"
        },
        "id": "y1wv7r22xr4o",
        "outputId": "6898fab3-5ba4-42d9-fe87-974b9b5daf4b"
      },
      "outputs": [],
      "source": [
        "property_links = []\n",
        "for i in range(len(pages)):\n",
        "    page = pages[i].find_all(\"a\", class_=\"_7ac32433\")\n",
        "    for x in range(len(page)):\n",
        "        property_link = \"https://www.zameen.com\"+str(page[x][\"href\"])\n",
        "        property_links.append(property_link)\n"
      ]
    },
    {
      "cell_type": "code",
      "execution_count": null,
      "metadata": {
        "id": "YbEa3a-kx015"
      },
      "outputs": [],
      "source": [
        "dict = {'links': property_links}\n",
        "df = pd.DataFrame(dict)\n",
        "df.to_csv('links.csv')  # saving links into CSV\n"
      ]
    },
    {
      "cell_type": "code",
      "execution_count": null,
      "metadata": {
        "colab": {
          "base_uri": "https://localhost:8080/",
          "height": 1000
        },
        "id": "1GAWjZ6ax1pB",
        "outputId": "22a0f8d5-45d2-490c-8953-24cb43c84fb3"
      },
      "outputs": [],
      "source": [
        "property_names, property_types, property_prices, property_purposes, property_locations, property_baths, property_beds = [\n",
        "], [], [], [], [], [], []  # Declaring features variables as list.\n",
        "property_cities, property_area_names, property_ids, property_descriptions, property_areas, property_dates_added = [], [], [], [], [], []\n",
        "links_count = 2999\n",
        "for x in property_links[links_count:]:\n",
        "    if (links_count >= 5000):\n",
        "        break\n",
        "    page = requests.get(x)\n",
        "    soup = BeautifulSoup(page.content, 'html.parser')\n",
        "    print(x)\n",
        "\n",
        "    if (soup.find(class_=\"_64bb5b3b\") != None):\n",
        "        property_name = soup.find(class_=\"_64bb5b3b\").getText()\n",
        "        property_type = soup.find(class_=\"_812aa185\").getText()\n",
        "        property_price = soup.find_all('span', attrs={'aria-label': 'Price'})\n",
        "        property_area = soup.find_all('span', attrs={'aria-label': 'Area'})\n",
        "        property_type = soup.find_all('span', attrs={'aria-label': 'Type'})\n",
        "        property_purpose = soup.find_all(\n",
        "            'span', attrs={'aria-label': 'Purpose'})\n",
        "        property_location = soup.find_all(\n",
        "            'span', attrs={'aria-label': 'Location'})\n",
        "        property_bath = soup.find_all('span', attrs={'aria-label': 'Baths'})\n",
        "        property_bed = soup.find_all('span', attrs={'aria-label': 'Beds'})\n",
        "        property_date_added = soup.find_all(\n",
        "            'span', attrs={'aria-label': 'Creation date'})\n",
        "\n",
        "        # Standardization of price and area\n",
        "        property_price = property_price[-1].getText()\n",
        "        if ('Lakh' in property_price):\n",
        "            property_price = property_price.replace('Lakh', '')\n",
        "            property_price = property_price.replace('PKR', '')\n",
        "            property_price = str(math.ceil(float(property_price))*100000)\n",
        "        elif ('Crore' in property_price):\n",
        "            property_price = property_price.replace('Crore', '')\n",
        "            property_price = property_price.replace('PKR', '')\n",
        "            property_price = str(math.ceil(float(property_price))*10000000)\n",
        "        elif ('Thousand' in property_price):\n",
        "            property_price = property_price.replace('Thousand', '')\n",
        "            property_price = property_price.replace('PKR', '')\n",
        "            property_price = str(math.ceil(float(property_price))*1000)\n",
        "        property_type = property_type[-1].getText()\n",
        "        property_purpose = property_purpose[-1].getText()\n",
        "        property_location = property_location[-1].getText()\n",
        "        property_bath = property_bath[-1].getText()\n",
        "        property_bed = property_bed[-1].getText()\n",
        "        property_description = soup.find(class_=\"_2a806e1e\").getText()\n",
        "        lst = property_location.split(',')\n",
        "        property_area_name = lst[0]\n",
        "        property_area = property_area[-1].getText()\n",
        "        if ('Kanal' in property_area):\n",
        "            property_area = property_area.replace('Kanal', '')\n",
        "            property_area = str(float(property_area)*20)\n",
        "        elif ('Marla' in property_area):\n",
        "            property_area = property_area.replace('Marla', '')\n",
        "        elif ('Sq. Yd.' in property_area):\n",
        "            property_area = property_area.replace('Sq. Yd.', '')\n",
        "            property_area = str(float(property_area)*0.03305785446)\n",
        "        property_city = lst[-2]\n",
        "        property_city = property_city.replace(' ', '')\n",
        "        property_id = soup.find_all('span', attrs={'aria-label': 'Link name'})\n",
        "        property_id = property_id[-1].getText()\n",
        "        property_names.append(property_name)\n",
        "        property_types.append(property_type)\n",
        "        property_date_added = property_date_added[-1].getText()\n",
        "        # Remove ago from the property_date_added\n",
        "        property_date_added = property_date_added.replace(' ago', '')\n",
        "        # If hours in property_date_added then convert to that date\n",
        "        if 'hours' in property_date_added:\n",
        "            property_date_added = datetime.now(\n",
        "            ) - timedelta(hours=int(property_date_added.split(' ')[0]))\n",
        "            property_date_added = property_date_added.strftime(\"%d/%m/%Y\")\n",
        "        # If days in property_date_added then convert to that date\n",
        "        elif 'days' or 'day' in property_date_added:\n",
        "            property_date_added = datetime.now(\n",
        "            ) - timedelta(days=int(property_date_added.split(' ')[0]))\n",
        "            property_date_added = property_date_added.strftime(\"%d/%m/%Y\")\n",
        "        # If weeks in property_date_added then convert to that date\n",
        "        elif 'weeks' in property_date_added:\n",
        "            property_date_added = datetime.now(\n",
        "            ) - timedelta(weeks=int(property_date_added.split(' ')[0]))\n",
        "            property_date_added = property_date_added.strftime(\"%d/%m/%Y\")\n",
        "        # If months in property_date_added then convert to that date\n",
        "        elif 'months' in property_date_added:\n",
        "            property_date_added = datetime.now(\n",
        "            ) - timedelta(days=int(property_date_added.split(' ')[0]) * 30)\n",
        "            property_date_added = property_date_added.strftime(\"%d/%m/%Y\")\n",
        "        # If years in property_date_added then convert to that date\n",
        "        elif 'years' in property_date_added:\n",
        "            property_date_added = datetime.now(\n",
        "            ) - timedelta(days=int(property_date_added.split(' ')[0]) * 365)\n",
        "            property_date_added = property_date_added.strftime(\"%d/%m/%Y\")\n",
        "        property_price = re.sub(\"[^0-9]\", \"\", property_price)\n",
        "        print(property_price)\n",
        "        property_prices.append(int(property_price))\n",
        "        property_purposes.append(property_purpose)\n",
        "        property_locations.append(property_location)\n",
        "        property_baths.append(property_bath)\n",
        "        property_beds.append(property_bed)\n",
        "        property_cities.append(property_city)\n",
        "        property_area_names.append(property_area_name)\n",
        "        property_ids.append(property_id)\n",
        "        property_descriptions.append(property_description)\n",
        "        property_areas.append(property_area)\n",
        "        property_dates_added.append(property_date_added)\n",
        "        links_count += 1\n"
      ]
    },
    {
      "cell_type": "code",
      "execution_count": null,
      "metadata": {
        "colab": {
          "base_uri": "https://localhost:8080/",
          "height": 252
        },
        "id": "BeuEHQ9WPm2b",
        "outputId": "6e019b57-cb19-4ff1-d25f-a0e02fd5d7e3"
      },
      "outputs": [],
      "source": [
        "# saving list in to dictionaries\n",
        "dict = {'Property_ID': property_ids, 'Property_Name': property_names, 'Property_Type': property_types, 'Property_Purpose': property_purposes, 'Baths': property_baths, 'Bedrooms': property_beds, 'City': property_city,\n",
        "        'Property_Location': property_locations, 'Area': property_areas, 'City': property_city, 'Area_Name': property_area_names, 'Properity_Price': property_prices, 'Date_Added': property_dates_added}\n",
        "\n",
        "df = pd.DataFrame(dict)  # converting dictionary into Dataframe\n",
        "i = 1\n",
        "file_name = 'data_'+city+'_'+str(i)+'.csv'\n",
        "while os.path.isfile(file_name):\n",
        "    i += 1\n",
        "    file_name = 'data_'+city+'_'+str(i)+'.csv'\n",
        "df.to_csv(file_name)  # creating CSV from dataframe\n"
      ]
    }
  ],
  "metadata": {
    "colab": {
      "provenance": []
    },
    "kernelspec": {
      "display_name": "Python 3.10.6 64-bit",
      "language": "python",
      "name": "python3"
    },
    "language_info": {
      "codemirror_mode": {
        "name": "ipython",
        "version": 3
      },
      "file_extension": ".py",
      "mimetype": "text/x-python",
      "name": "python",
      "nbconvert_exporter": "python",
      "pygments_lexer": "ipython3",
      "version": "3.10.6"
    },
    "vscode": {
      "interpreter": {
        "hash": "916dbcbb3f70747c44a77c7bcd40155683ae19c65e1c03b4aa3499c5328201f1"
      }
    }
  },
  "nbformat": 4,
  "nbformat_minor": 0
}
