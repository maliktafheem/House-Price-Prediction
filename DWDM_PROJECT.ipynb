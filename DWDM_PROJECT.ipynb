{
  "cells": [
    {
      "cell_type": "code",
      "execution_count": 1,
      "metadata": {
        "id": "ad5KNx11QIpW"
      },
      "outputs": [],
      "source": [
        "import pandas as pd\n",
        "import numpy as np\n",
        "import matplotlib.pyplot as plt\n",
        "import seaborn as sns\n",
        "%matplotlib inline\n",
        "from sklearn.model_selection import train_test_split\n"
      ]
    },
    {
      "cell_type": "code",
      "execution_count": 2,
      "metadata": {
        "colab": {
          "base_uri": "https://localhost:8080/",
          "height": 513
        },
        "id": "sispu3rORoxB",
        "outputId": "9a0c7e9a-e0f9-448c-a3e8-da1c7fbcfe04"
      },
      "outputs": [
        {
          "data": {
            "text/html": [
              "<div>\n",
              "<style scoped>\n",
              "    .dataframe tbody tr th:only-of-type {\n",
              "        vertical-align: middle;\n",
              "    }\n",
              "\n",
              "    .dataframe tbody tr th {\n",
              "        vertical-align: top;\n",
              "    }\n",
              "\n",
              "    .dataframe thead th {\n",
              "        text-align: right;\n",
              "    }\n",
              "</style>\n",
              "<table border=\"1\" class=\"dataframe\">\n",
              "  <thead>\n",
              "    <tr style=\"text-align: right;\">\n",
              "      <th></th>\n",
              "      <th>Property_ID</th>\n",
              "      <th>Property_Name</th>\n",
              "      <th>Property_Type</th>\n",
              "      <th>Property_Purpose</th>\n",
              "      <th>Baths</th>\n",
              "      <th>Bedrooms</th>\n",
              "      <th>City</th>\n",
              "      <th>Property_Location</th>\n",
              "      <th>Area</th>\n",
              "      <th>Area_Name</th>\n",
              "      <th>Property_Price</th>\n",
              "      <th>Date_Added</th>\n",
              "    </tr>\n",
              "  </thead>\n",
              "  <tbody>\n",
              "    <tr>\n",
              "      <th>0</th>\n",
              "      <td>Flat 35683655</td>\n",
              "      <td>On Bed Apartment Possession In 1 Year For Sale...</td>\n",
              "      <td>Flat</td>\n",
              "      <td>For Sale</td>\n",
              "      <td>1</td>\n",
              "      <td>1</td>\n",
              "      <td>Lahore</td>\n",
              "      <td>Bahria Town, Lahore, Punjab</td>\n",
              "      <td>2.1</td>\n",
              "      <td>Bahria Town</td>\n",
              "      <td>3900000</td>\n",
              "      <td>24/12/2022</td>\n",
              "    </tr>\n",
              "    <tr>\n",
              "      <th>1</th>\n",
              "      <td>Flat 43095148</td>\n",
              "      <td>Luxury Studio Apartment For Sale On Easy Insta...</td>\n",
              "      <td>Flat</td>\n",
              "      <td>For Sale</td>\n",
              "      <td>1</td>\n",
              "      <td>-</td>\n",
              "      <td>Lahore</td>\n",
              "      <td>Raiwind Road, Lahore, Punjab</td>\n",
              "      <td>2.2</td>\n",
              "      <td>Raiwind Road</td>\n",
              "      <td>6000000</td>\n",
              "      <td>24/12/2022</td>\n",
              "    </tr>\n",
              "    <tr>\n",
              "      <th>2</th>\n",
              "      <td>Flat 43158444</td>\n",
              "      <td>Flat Sized 10 Marla Is Available For sale In A...</td>\n",
              "      <td>Flat</td>\n",
              "      <td>For Sale</td>\n",
              "      <td>3</td>\n",
              "      <td>3</td>\n",
              "      <td>Lahore</td>\n",
              "      <td>Askari, Lahore, Punjab</td>\n",
              "      <td>10.0</td>\n",
              "      <td>Askari</td>\n",
              "      <td>30000000</td>\n",
              "      <td>28/12/2022</td>\n",
              "    </tr>\n",
              "    <tr>\n",
              "      <th>3</th>\n",
              "      <td>Flat 43158439</td>\n",
              "      <td>10 Marla Flat For sale Is Available In Askari ...</td>\n",
              "      <td>Flat</td>\n",
              "      <td>For Sale</td>\n",
              "      <td>3</td>\n",
              "      <td>3</td>\n",
              "      <td>Lahore</td>\n",
              "      <td>Askari, Lahore, Punjab</td>\n",
              "      <td>10.0</td>\n",
              "      <td>Askari</td>\n",
              "      <td>30000000</td>\n",
              "      <td>28/12/2022</td>\n",
              "    </tr>\n",
              "    <tr>\n",
              "      <th>4</th>\n",
              "      <td>Flat 43158422</td>\n",
              "      <td>Ideally Located Flat For sale In Askari 11 - S...</td>\n",
              "      <td>Flat</td>\n",
              "      <td>For Sale</td>\n",
              "      <td>3</td>\n",
              "      <td>3</td>\n",
              "      <td>Lahore</td>\n",
              "      <td>Askari, Lahore, Punjab</td>\n",
              "      <td>10.0</td>\n",
              "      <td>Askari</td>\n",
              "      <td>30000000</td>\n",
              "      <td>28/12/2022</td>\n",
              "    </tr>\n",
              "  </tbody>\n",
              "</table>\n",
              "</div>"
            ],
            "text/plain": [
              "     Property_ID                                      Property_Name  \\\n",
              "0  Flat 35683655  On Bed Apartment Possession In 1 Year For Sale...   \n",
              "1  Flat 43095148  Luxury Studio Apartment For Sale On Easy Insta...   \n",
              "2  Flat 43158444  Flat Sized 10 Marla Is Available For sale In A...   \n",
              "3  Flat 43158439  10 Marla Flat For sale Is Available In Askari ...   \n",
              "4  Flat 43158422  Ideally Located Flat For sale In Askari 11 - S...   \n",
              "\n",
              "  Property_Type Property_Purpose Baths Bedrooms    City  \\\n",
              "0          Flat         For Sale     1        1  Lahore   \n",
              "1          Flat         For Sale     1        -  Lahore   \n",
              "2          Flat         For Sale     3        3  Lahore   \n",
              "3          Flat         For Sale     3        3  Lahore   \n",
              "4          Flat         For Sale     3        3  Lahore   \n",
              "\n",
              "              Property_Location  Area     Area_Name  Property_Price  \\\n",
              "0   Bahria Town, Lahore, Punjab   2.1   Bahria Town         3900000   \n",
              "1  Raiwind Road, Lahore, Punjab   2.2  Raiwind Road         6000000   \n",
              "2        Askari, Lahore, Punjab  10.0        Askari        30000000   \n",
              "3        Askari, Lahore, Punjab  10.0        Askari        30000000   \n",
              "4        Askari, Lahore, Punjab  10.0        Askari        30000000   \n",
              "\n",
              "   Date_Added  \n",
              "0  24/12/2022  \n",
              "1  24/12/2022  \n",
              "2  28/12/2022  \n",
              "3  28/12/2022  \n",
              "4  28/12/2022  "
            ]
          },
          "execution_count": 2,
          "metadata": {},
          "output_type": "execute_result"
        }
      ],
      "source": [
        "# Removing the serial number column as the data is already indexed by pandas\n",
        "df = pd.read_csv('final_data.csv')\n",
        "df.drop(df.columns[[0]], axis=1, inplace=True) \n",
        "df.head() #data"
      ]
    },
    {
      "cell_type": "code",
      "execution_count": 3,
      "metadata": {
        "colab": {
          "base_uri": "https://localhost:8080/"
        },
        "id": "6iAdTWCdsZpm",
        "outputId": "d2fce8c7-c1f0-420e-ae6e-f536a1b06a90"
      },
      "outputs": [
        {
          "data": {
            "text/plain": [
              "12725"
            ]
          },
          "execution_count": 3,
          "metadata": {},
          "output_type": "execute_result"
        }
      ],
      "source": [
        "len(df)"
      ]
    },
    {
      "cell_type": "code",
      "execution_count": 4,
      "metadata": {
        "id": "ZdrFZTCIVJqR"
      },
      "outputs": [],
      "source": [
        "#Changing data types\n",
        "#replace NA or inf with int max value\n",
        "df = df.replace([np.inf, -np.inf], np.iinfo(np.int64).max)\n",
        "df['Property_ID'] = df['Property_ID'].astype(str)\n",
        "df['Property_Name'] = df['Property_Name'].astype(str)\n",
        "df['Property_Type'] = df['Property_Type'].astype(str)\n",
        "df['Property_Purpose'] = df['Property_Purpose'].astype(str)\n",
        "df['Baths'] = df['Baths'].replace('-', 0)\n",
        "df['Bedrooms'] = df['Bedrooms'].replace('-', 0)\n",
        "df['Baths'] = df['Baths'].astype(int)\n",
        "df['Bedrooms'] = df['Bedrooms'].astype(int)\n",
        "df['City'] = df['City'].astype(str)\n",
        "df['Property_Location'] = df['Property_Location'].astype(str)\n",
        "df['Area'] = df['Area'].astype(float)\n",
        "df['Area_Name'] = df['Area_Name'].astype(str)\n",
        "df['Property_Price'] = df['Property_Price'].astype(int)\n",
        "df['Date_Added'] = df['Date_Added'].astype(str)"
      ]
    },
    {
      "cell_type": "code",
      "execution_count": 5,
      "metadata": {
        "colab": {
          "base_uri": "https://localhost:8080/"
        },
        "id": "6enfinpKVHR2",
        "outputId": "b12acded-9f72-4104-c893-0b5f2a4b5e89"
      },
      "outputs": [
        {
          "name": "stdout",
          "output_type": "stream",
          "text": [
            "<class 'pandas.core.frame.DataFrame'>\n",
            "RangeIndex: 12725 entries, 0 to 12724\n",
            "Data columns (total 12 columns):\n",
            " #   Column             Non-Null Count  Dtype  \n",
            "---  ------             --------------  -----  \n",
            " 0   Property_ID        12725 non-null  object \n",
            " 1   Property_Name      12725 non-null  object \n",
            " 2   Property_Type      12725 non-null  object \n",
            " 3   Property_Purpose   12725 non-null  object \n",
            " 4   Baths              12725 non-null  int64  \n",
            " 5   Bedrooms           12725 non-null  int64  \n",
            " 6   City               12725 non-null  object \n",
            " 7   Property_Location  12725 non-null  object \n",
            " 8   Area               12725 non-null  float64\n",
            " 9   Area_Name          12725 non-null  object \n",
            " 10  Property_Price     12725 non-null  int64  \n",
            " 11  Date_Added         12725 non-null  object \n",
            "dtypes: float64(1), int64(3), object(8)\n",
            "memory usage: 1.2+ MB\n"
          ]
        }
      ],
      "source": [
        "df.info()"
      ]
    },
    {
      "cell_type": "code",
      "execution_count": 6,
      "metadata": {
        "colab": {
          "base_uri": "https://localhost:8080/",
          "height": 300
        },
        "id": "Z-3Jj2UgeXxI",
        "outputId": "ec6652ff-06d4-41e1-fffa-89f80ede291f"
      },
      "outputs": [
        {
          "data": {
            "text/html": [
              "<div>\n",
              "<style scoped>\n",
              "    .dataframe tbody tr th:only-of-type {\n",
              "        vertical-align: middle;\n",
              "    }\n",
              "\n",
              "    .dataframe tbody tr th {\n",
              "        vertical-align: top;\n",
              "    }\n",
              "\n",
              "    .dataframe thead th {\n",
              "        text-align: right;\n",
              "    }\n",
              "</style>\n",
              "<table border=\"1\" class=\"dataframe\">\n",
              "  <thead>\n",
              "    <tr style=\"text-align: right;\">\n",
              "      <th></th>\n",
              "      <th>Baths</th>\n",
              "      <th>Bedrooms</th>\n",
              "      <th>Area</th>\n",
              "      <th>Property_Price</th>\n",
              "    </tr>\n",
              "  </thead>\n",
              "  <tbody>\n",
              "    <tr>\n",
              "      <th>count</th>\n",
              "      <td>12725.000000</td>\n",
              "      <td>12725.000000</td>\n",
              "      <td>12725.000000</td>\n",
              "      <td>1.272500e+04</td>\n",
              "    </tr>\n",
              "    <tr>\n",
              "      <th>mean</th>\n",
              "      <td>3.618861</td>\n",
              "      <td>3.371788</td>\n",
              "      <td>11.045220</td>\n",
              "      <td>2.458487e+07</td>\n",
              "    </tr>\n",
              "    <tr>\n",
              "      <th>std</th>\n",
              "      <td>2.072626</td>\n",
              "      <td>1.987624</td>\n",
              "      <td>10.806802</td>\n",
              "      <td>5.612490e+07</td>\n",
              "    </tr>\n",
              "    <tr>\n",
              "      <th>min</th>\n",
              "      <td>0.000000</td>\n",
              "      <td>0.000000</td>\n",
              "      <td>0.200000</td>\n",
              "      <td>1.000000e+00</td>\n",
              "    </tr>\n",
              "    <tr>\n",
              "      <th>25%</th>\n",
              "      <td>2.000000</td>\n",
              "      <td>2.000000</td>\n",
              "      <td>4.700000</td>\n",
              "      <td>9.900000e+04</td>\n",
              "    </tr>\n",
              "    <tr>\n",
              "      <th>50%</th>\n",
              "      <td>4.000000</td>\n",
              "      <td>3.000000</td>\n",
              "      <td>8.033059</td>\n",
              "      <td>1.000000e+06</td>\n",
              "    </tr>\n",
              "    <tr>\n",
              "      <th>75%</th>\n",
              "      <td>5.000000</td>\n",
              "      <td>5.000000</td>\n",
              "      <td>13.950415</td>\n",
              "      <td>3.000000e+07</td>\n",
              "    </tr>\n",
              "    <tr>\n",
              "      <th>max</th>\n",
              "      <td>10.000000</td>\n",
              "      <td>16.000000</td>\n",
              "      <td>300.000000</td>\n",
              "      <td>9.000000e+08</td>\n",
              "    </tr>\n",
              "  </tbody>\n",
              "</table>\n",
              "</div>"
            ],
            "text/plain": [
              "              Baths      Bedrooms          Area  Property_Price\n",
              "count  12725.000000  12725.000000  12725.000000    1.272500e+04\n",
              "mean       3.618861      3.371788     11.045220    2.458487e+07\n",
              "std        2.072626      1.987624     10.806802    5.612490e+07\n",
              "min        0.000000      0.000000      0.200000    1.000000e+00\n",
              "25%        2.000000      2.000000      4.700000    9.900000e+04\n",
              "50%        4.000000      3.000000      8.033059    1.000000e+06\n",
              "75%        5.000000      5.000000     13.950415    3.000000e+07\n",
              "max       10.000000     16.000000    300.000000    9.000000e+08"
            ]
          },
          "execution_count": 6,
          "metadata": {},
          "output_type": "execute_result"
        }
      ],
      "source": [
        "df.describe()"
      ]
    },
    {
      "cell_type": "code",
      "execution_count": 7,
      "metadata": {
        "id": "NKlOQXQXel2f"
      },
      "outputs": [],
      "source": [
        "# print missing values\n",
        "\n",
        "features_nan=[feature for feature in df.columns if df[feature].isnull().sum()>1 and df[feature].dtypes=='O']\n",
        "\n",
        "for feature in features_nan:\n",
        "    print(\"{}: {}% missing values\".format(feature,np.round(df[feature].isnull().mean(),4)))"
      ]
    },
    {
      "cell_type": "code",
      "execution_count": 8,
      "metadata": {
        "colab": {
          "base_uri": "https://localhost:8080/"
        },
        "id": "QaO11C9nguMo",
        "outputId": "bce2e431-068b-421d-8081-00fdc0699b77"
      },
      "outputs": [
        {
          "data": {
            "text/plain": [
              "Property_ID          0\n",
              "Property_Name        0\n",
              "Property_Type        0\n",
              "Property_Purpose     0\n",
              "Baths                0\n",
              "Bedrooms             0\n",
              "City                 0\n",
              "Property_Location    0\n",
              "Area                 0\n",
              "Area_Name            0\n",
              "Property_Price       0\n",
              "Date_Added           0\n",
              "dtype: int64"
            ]
          },
          "execution_count": 8,
          "metadata": {},
          "output_type": "execute_result"
        }
      ],
      "source": [
        "#check if there is any null value in the data \n",
        "df.isnull().sum()"
      ]
    },
    {
      "cell_type": "code",
      "execution_count": 9,
      "metadata": {
        "colab": {
          "base_uri": "https://localhost:8080/",
          "height": 307
        },
        "id": "GbFNa4Bxg2Sd",
        "outputId": "b2f50acd-baae-4e1f-b3a1-25835d47e376"
      },
      "outputs": [
        {
          "name": "stderr",
          "output_type": "stream",
          "text": [
            "/tmp/ipykernel_30997/721799089.py:3: FutureWarning: The default value of numeric_only in DataFrame.corr is deprecated. In a future version, it will default to False. Select only valid columns or specify the value of numeric_only to silence this warning.\n",
            "  ax = sns.heatmap(df.corr(),annot = True)\n"
          ]
        },
        {
          "data": {
            "text/plain": [
              "Text(0.5, 1.0, 'CORRELATION MATRIX')"
            ]
          },
          "execution_count": 9,
          "metadata": {},
          "output_type": "execute_result"
        },
        {
          "data": {
            "image/png": "[encoded data removed]",
            "text/plain": [
              "<Figure size 1500x500 with 2 Axes>"
            ]
          },
          "metadata": {},
          "output_type": "display_data"
        }
      ],
      "source": [
        "# Checking correlation between the features\n",
        "plt.figure(figsize=(15,5))\n",
        "ax = sns.heatmap(df.corr(),annot = True)\n",
        "ax.set_title('CORRELATION MATRIX', fontsize=10)"
      ]
    },
    {
      "cell_type": "code",
      "execution_count": 10,
      "metadata": {
        "id": "ERzYPDNwhl01"
      },
      "outputs": [],
      "source": [
        "# remove columns that contribute nothing\n",
        "# Property ID, Property Name are strings they contribute nothing to model\n",
        "# Property Location is redundant \n",
        "# The data is recent, so the Date Added is same year for all the records\n",
        "df = df.drop(['Property_ID','Property_Name','Property_Location','Date_Added'], axis=1)"
      ]
    },
    {
      "cell_type": "code",
      "execution_count": 11,
      "metadata": {
        "colab": {
          "base_uri": "https://localhost:8080/",
          "height": 305
        },
        "id": "QcA_YokCiqxk",
        "outputId": "eeced0aa-ea48-4e7b-8a59-522e7e450509"
      },
      "outputs": [
        {
          "data": {
            "text/html": [
              "<div>\n",
              "<style scoped>\n",
              "    .dataframe tbody tr th:only-of-type {\n",
              "        vertical-align: middle;\n",
              "    }\n",
              "\n",
              "    .dataframe tbody tr th {\n",
              "        vertical-align: top;\n",
              "    }\n",
              "\n",
              "    .dataframe thead th {\n",
              "        text-align: right;\n",
              "    }\n",
              "</style>\n",
              "<table border=\"1\" class=\"dataframe\">\n",
              "  <thead>\n",
              "    <tr style=\"text-align: right;\">\n",
              "      <th></th>\n",
              "      <th>Property_Type</th>\n",
              "      <th>Property_Purpose</th>\n",
              "      <th>Baths</th>\n",
              "      <th>Bedrooms</th>\n",
              "      <th>City</th>\n",
              "      <th>Area</th>\n",
              "      <th>Area_Name</th>\n",
              "      <th>Property_Price</th>\n",
              "    </tr>\n",
              "  </thead>\n",
              "  <tbody>\n",
              "    <tr>\n",
              "      <th>0</th>\n",
              "      <td>Flat</td>\n",
              "      <td>For Sale</td>\n",
              "      <td>1</td>\n",
              "      <td>1</td>\n",
              "      <td>Lahore</td>\n",
              "      <td>2.1</td>\n",
              "      <td>Bahria Town</td>\n",
              "      <td>3900000</td>\n",
              "    </tr>\n",
              "    <tr>\n",
              "      <th>1</th>\n",
              "      <td>Flat</td>\n",
              "      <td>For Sale</td>\n",
              "      <td>1</td>\n",
              "      <td>0</td>\n",
              "      <td>Lahore</td>\n",
              "      <td>2.2</td>\n",
              "      <td>Raiwind Road</td>\n",
              "      <td>6000000</td>\n",
              "    </tr>\n",
              "    <tr>\n",
              "      <th>2</th>\n",
              "      <td>Flat</td>\n",
              "      <td>For Sale</td>\n",
              "      <td>3</td>\n",
              "      <td>3</td>\n",
              "      <td>Lahore</td>\n",
              "      <td>10.0</td>\n",
              "      <td>Askari</td>\n",
              "      <td>30000000</td>\n",
              "    </tr>\n",
              "    <tr>\n",
              "      <th>3</th>\n",
              "      <td>Flat</td>\n",
              "      <td>For Sale</td>\n",
              "      <td>3</td>\n",
              "      <td>3</td>\n",
              "      <td>Lahore</td>\n",
              "      <td>10.0</td>\n",
              "      <td>Askari</td>\n",
              "      <td>30000000</td>\n",
              "    </tr>\n",
              "    <tr>\n",
              "      <th>4</th>\n",
              "      <td>Flat</td>\n",
              "      <td>For Sale</td>\n",
              "      <td>3</td>\n",
              "      <td>3</td>\n",
              "      <td>Lahore</td>\n",
              "      <td>10.0</td>\n",
              "      <td>Askari</td>\n",
              "      <td>30000000</td>\n",
              "    </tr>\n",
              "  </tbody>\n",
              "</table>\n",
              "</div>"
            ],
            "text/plain": [
              "  Property_Type Property_Purpose  Baths  Bedrooms    City  Area     Area_Name  \\\n",
              "0          Flat         For Sale      1         1  Lahore   2.1   Bahria Town   \n",
              "1          Flat         For Sale      1         0  Lahore   2.2  Raiwind Road   \n",
              "2          Flat         For Sale      3         3  Lahore  10.0        Askari   \n",
              "3          Flat         For Sale      3         3  Lahore  10.0        Askari   \n",
              "4          Flat         For Sale      3         3  Lahore  10.0        Askari   \n",
              "\n",
              "   Property_Price  \n",
              "0         3900000  \n",
              "1         6000000  \n",
              "2        30000000  \n",
              "3        30000000  \n",
              "4        30000000  "
            ]
          },
          "execution_count": 11,
          "metadata": {},
          "output_type": "execute_result"
        }
      ],
      "source": [
        "df.head()  "
      ]
    },
    {
      "cell_type": "code",
      "execution_count": 12,
      "metadata": {
        "colab": {
          "base_uri": "https://localhost:8080/"
        },
        "id": "dd--HKbfiy3F",
        "outputId": "f8e88548-58cb-4a64-eae0-500e9134e994"
      },
      "outputs": [
        {
          "data": {
            "text/plain": [
              "array(['Flat', 'House'], dtype=object)"
            ]
          },
          "execution_count": 12,
          "metadata": {},
          "output_type": "execute_result"
        }
      ],
      "source": [
        "df['Property_Type'].unique()"
      ]
    },
    {
      "cell_type": "code",
      "execution_count": 13,
      "metadata": {
        "colab": {
          "base_uri": "https://localhost:8080/"
        },
        "id": "DYDiD0sDi5nv",
        "outputId": "a97f9dfa-005b-4e80-eee0-de586c00fc7a"
      },
      "outputs": [
        {
          "data": {
            "text/plain": [
              "array(['Lahore', 'Islamabad', 'Karachi'], dtype=object)"
            ]
          },
          "execution_count": 13,
          "metadata": {},
          "output_type": "execute_result"
        }
      ],
      "source": [
        "df['City'].unique()"
      ]
    },
    {
      "cell_type": "code",
      "execution_count": 14,
      "metadata": {
        "colab": {
          "base_uri": "https://localhost:8080/"
        },
        "id": "-Sf1_NSejAQv",
        "outputId": "21310145-4d11-4b61-961b-0d1d41615bf9"
      },
      "outputs": [
        {
          "data": {
            "text/plain": [
              "array(['For Sale', 'For Rent'], dtype=object)"
            ]
          },
          "execution_count": 14,
          "metadata": {},
          "output_type": "execute_result"
        }
      ],
      "source": [
        "df['Property_Purpose'].unique()"
      ]
    },
    {
      "cell_type": "code",
      "execution_count": 15,
      "metadata": {
        "colab": {
          "base_uri": "https://localhost:8080/"
        },
        "id": "ZzvsHu2-jKH_",
        "outputId": "efd8a1e4-8444-4638-c877-2502139ab2be"
      },
      "outputs": [
        {
          "name": "stdout",
          "output_type": "stream",
          "text": [
            "Number of Properties with 0 bedrooms:  999\n",
            "Percentage of bedrooms with value 0:  7.85\n",
            "\n",
            "Number of Properties with 0 baths:  942\n",
            "Percentage of baths with value 0:  7.3999999999999995\n"
          ]
        }
      ],
      "source": [
        "# Properties with 0 bedrooms and 0 baths\n",
        "c = df.Bedrooms[df.Bedrooms==0].count()\n",
        "print(\"Number of Properties with 0 bedrooms: \", c)\n",
        "print('Percentage of bedrooms with value 0: ', 100*np.round(c/df.shape[0],4))\n",
        "\n",
        "c = df.Baths[df.Baths == 0].count()\n",
        "print(\"\\nNumber of Properties with 0 baths: \", c)\n",
        "print('Percentage of baths with value 0: ', 100*np.round(c/df.shape[0],4))"
      ]
    },
    {
      "cell_type": "code",
      "execution_count": 16,
      "metadata": {
        "colab": {
          "base_uri": "https://localhost:8080/",
          "height": 327
        },
        "id": "EixMXe__jUk5",
        "outputId": "f9d4336a-fd98-46d8-b861-3b7e08dbb7f4"
      },
      "outputs": [
        {
          "data": {
            "text/plain": [
              "Text(0.5, 1.0, 'Bedrooms VS Price')"
            ]
          },
          "execution_count": 16,
          "metadata": {},
          "output_type": "execute_result"
        },
        {
          "data": {
            "image/png": "[encoded data removed]",
            "text/plain": [
              "<Figure size 1500x600 with 1 Axes>"
            ]
          },
          "metadata": {},
          "output_type": "display_data"
        }
      ],
      "source": [
        "#Plotting relation between bedrooms and price\n",
        "plt.figure(figsize=(15,6))\n",
        "\n",
        "ax = sns.barplot(x=df['Bedrooms'], y=df['Property_Price'])\n",
        "ax.set_xticklabels(ax.get_xticklabels(), rotation=0)\n",
        "ax.set_title('Bedrooms VS Price', fontsize=14)"
      ]
    },
    {
      "cell_type": "code",
      "execution_count": 17,
      "metadata": {
        "colab": {
          "base_uri": "https://localhost:8080/",
          "height": 442
        },
        "id": "ZHaYp1qGmqS7",
        "outputId": "bed285b5-684e-47fc-a623-79d3487c0c36"
      },
      "outputs": [
        {
          "data": {
            "text/plain": [
              "Text(0.5, 1.0, 'Bedrooms VS Area')"
            ]
          },
          "execution_count": 17,
          "metadata": {},
          "output_type": "execute_result"
        },
        {
          "data": {
            "image/png": "[encoded data removed]",
            "text/plain": [
              "<Figure size 1500x600 with 1 Axes>"
            ]
          },
          "metadata": {},
          "output_type": "display_data"
        }
      ],
      "source": [
        "#Plotting relation between bedrooms and area\n",
        "plt.figure(figsize=(15,6))\n",
        "ax = sns.barplot(x=df['Bedrooms'], y=df['Area'])\n",
        "ax.set_xticklabels(ax.get_xticklabels(), rotation=0)\n",
        "ax.set_title('Bedrooms VS Area', fontsize=14)"
      ]
    },
    {
      "cell_type": "code",
      "execution_count": 18,
      "metadata": {
        "id": "Il72XFKdnCD8"
      },
      "outputs": [],
      "source": [
        "# Since about 7.85% of properties are without entered data for bedrooms and baths\n",
        "# resulting in 0 values in data. By analyzing Bedrooms against Area and Price\n",
        "# and its correlation with both features\n",
        "# We can replace 0 bedrooms with 5 bedrooms \n",
        "\n",
        "df['Bedrooms'].replace(to_replace = 0, value = 5, inplace = True)"
      ]
    },
    {
      "cell_type": "code",
      "execution_count": 19,
      "metadata": {
        "colab": {
          "base_uri": "https://localhost:8080/"
        },
        "id": "LiIBbQliwqZU",
        "outputId": "64bee575-5b20-4526-a88a-bb9d785d359a"
      },
      "outputs": [
        {
          "data": {
            "text/plain": [
              "1"
            ]
          },
          "execution_count": 19,
          "metadata": {},
          "output_type": "execute_result"
        }
      ],
      "source": [
        "df.Bedrooms[df.Bedrooms==16].count()"
      ]
    },
    {
      "cell_type": "code",
      "execution_count": 20,
      "metadata": {
        "id": "5CHHpOvvyHeu"
      },
      "outputs": [],
      "source": [
        "#Removing row with 16 bedrooms, its an outlier\n",
        "df = df[df.Bedrooms != 16]"
      ]
    },
    {
      "cell_type": "code",
      "execution_count": 21,
      "metadata": {
        "colab": {
          "base_uri": "https://localhost:8080/",
          "height": 327
        },
        "id": "tP6JrEgfoVeM",
        "outputId": "3155a26c-ad98-4fb3-cefa-8d8431a585c1"
      },
      "outputs": [
        {
          "data": {
            "text/plain": [
              "Text(0.5, 1.0, 'Bedrooms VS Price')"
            ]
          },
          "execution_count": 21,
          "metadata": {},
          "output_type": "execute_result"
        },
        {
          "data": {
            "image/png": "[encoded data removed]",
            "text/plain": [
              "<Figure size 1500x600 with 1 Axes>"
            ]
          },
          "metadata": {},
          "output_type": "display_data"
        }
      ],
      "source": [
        "plt.figure(figsize=(15,6))\n",
        "ax = sns.barplot(x=df['Bedrooms'], y=df['Property_Price'])\n",
        "ax.set_xticklabels(ax.get_xticklabels(), rotation=0)\n",
        "ax.set_title('Bedrooms VS Price', fontsize=14)"
      ]
    },
    {
      "cell_type": "code",
      "execution_count": 22,
      "metadata": {
        "colab": {
          "base_uri": "https://localhost:8080/",
          "height": 327
        },
        "id": "fLX_oviH1q5d",
        "outputId": "11b4343b-dcb8-4d1a-817b-f53e87909c07"
      },
      "outputs": [
        {
          "data": {
            "text/plain": [
              "Text(0.5, 1.0, 'Baths VS Price')"
            ]
          },
          "execution_count": 22,
          "metadata": {},
          "output_type": "execute_result"
        },
        {
          "data": {
            "image/png": "[encoded data removed]",
            "text/plain": [
              "<Figure size 1500x600 with 1 Axes>"
            ]
          },
          "metadata": {},
          "output_type": "display_data"
        }
      ],
      "source": [
        "plt.figure(figsize=(15,6))\n",
        "ax = sns.barplot(x=df['Baths'], y=df['Property_Price'])\n",
        "ax.set_xticklabels(ax.get_xticklabels(), rotation=0)\n",
        "ax.set_title('Baths VS Price', fontsize=14)"
      ]
    },
    {
      "cell_type": "code",
      "execution_count": 23,
      "metadata": {
        "colab": {
          "base_uri": "https://localhost:8080/",
          "height": 327
        },
        "id": "7QYpNLfM2G6x",
        "outputId": "5ba845e2-573c-425e-d0e7-bacb09c2643e"
      },
      "outputs": [
        {
          "data": {
            "text/plain": [
              "Text(0.5, 1.0, 'Baths VS Area')"
            ]
          },
          "execution_count": 23,
          "metadata": {},
          "output_type": "execute_result"
        },
        {
          "data": {
            "image/png": "[encoded data removed]",
            "text/plain": [
              "<Figure size 1500x600 with 1 Axes>"
            ]
          },
          "metadata": {},
          "output_type": "display_data"
        }
      ],
      "source": [
        "plt.figure(figsize=(15,6))\n",
        "ax = sns.barplot(x=df['Baths'], y=df['Property_Price'])\n",
        "ax.set_xticklabels(ax.get_xticklabels(), rotation=0)\n",
        "ax.set_title('Baths VS Area', fontsize=14)"
      ]
    },
    {
      "cell_type": "code",
      "execution_count": 24,
      "metadata": {
        "id": "82LVnmym126W"
      },
      "outputs": [],
      "source": [
        "# Replacing 0 baths by 5 as Bedrooms and Baths are correlated\n",
        "df['Baths'].replace(to_replace = 0, value = 5, inplace = True)"
      ]
    },
    {
      "cell_type": "code",
      "execution_count": 25,
      "metadata": {
        "colab": {
          "base_uri": "https://localhost:8080/",
          "height": 327
        },
        "id": "Az9oUJdC2RmP",
        "outputId": "62c16fa8-bb48-4774-ebb3-3df8a9cd9464"
      },
      "outputs": [
        {
          "data": {
            "text/plain": [
              "Text(0.5, 1.0, 'Bedrooms VS Price')"
            ]
          },
          "execution_count": 25,
          "metadata": {},
          "output_type": "execute_result"
        },
        {
          "data": {
            "image/png": "[encoded data removed]",
            "text/plain": [
              "<Figure size 1500x600 with 1 Axes>"
            ]
          },
          "metadata": {},
          "output_type": "display_data"
        }
      ],
      "source": [
        "plt.figure(figsize=(15,6))\n",
        "ax = sns.barplot(x=df['Bedrooms'], y=df['Property_Price'])\n",
        "ax.set_xticklabels(ax.get_xticklabels())\n",
        "ax.set_title('Bedrooms VS Price', fontsize=14)"
      ]
    },
    {
      "cell_type": "code",
      "execution_count": 26,
      "metadata": {
        "colab": {
          "base_uri": "https://localhost:8080/",
          "height": 175
        },
        "id": "nC4EaV0l2XMv",
        "outputId": "983070f1-150e-4f24-cdb4-ee1b11b6813e"
      },
      "outputs": [
        {
          "data": {
            "text/html": [
              "<div>\n",
              "<style scoped>\n",
              "    .dataframe tbody tr th:only-of-type {\n",
              "        vertical-align: middle;\n",
              "    }\n",
              "\n",
              "    .dataframe tbody tr th {\n",
              "        vertical-align: top;\n",
              "    }\n",
              "\n",
              "    .dataframe thead th {\n",
              "        text-align: right;\n",
              "    }\n",
              "</style>\n",
              "<table border=\"1\" class=\"dataframe\">\n",
              "  <thead>\n",
              "    <tr style=\"text-align: right;\">\n",
              "      <th></th>\n",
              "      <th>len</th>\n",
              "      <th>min</th>\n",
              "      <th>max</th>\n",
              "    </tr>\n",
              "    <tr>\n",
              "      <th>City</th>\n",
              "      <th></th>\n",
              "      <th></th>\n",
              "      <th></th>\n",
              "    </tr>\n",
              "  </thead>\n",
              "  <tbody>\n",
              "    <tr>\n",
              "      <th>Islamabad</th>\n",
              "      <td>4778</td>\n",
              "      <td>11000</td>\n",
              "      <td>900000000</td>\n",
              "    </tr>\n",
              "    <tr>\n",
              "      <th>Karachi</th>\n",
              "      <td>3226</td>\n",
              "      <td>12000</td>\n",
              "      <td>850000000</td>\n",
              "    </tr>\n",
              "    <tr>\n",
              "      <th>Lahore</th>\n",
              "      <td>4715</td>\n",
              "      <td>11000</td>\n",
              "      <td>650000000</td>\n",
              "    </tr>\n",
              "  </tbody>\n",
              "</table>\n",
              "</div>"
            ],
            "text/plain": [
              "            len    min        max\n",
              "City                             \n",
              "Islamabad  4778  11000  900000000\n",
              "Karachi    3226  12000  850000000\n",
              "Lahore     4715  11000  650000000"
            ]
          },
          "execution_count": 26,
          "metadata": {},
          "output_type": "execute_result"
        }
      ],
      "source": [
        "# Displaying total records, min and max price from each city\n",
        "# Dropping the row with odd property price observed\n",
        "df = df[df.Property_Price != 1]\n",
        "df = df[df.Property_Price != 12]\n",
        "df = df[df.Property_Price != 15]\n",
        "df = df[df.Property_Price != 125]\n",
        "city = df.groupby(['City']).Property_Price.agg([len, min, max])\n",
        "city"
      ]
    },
    {
      "cell_type": "code",
      "execution_count": 27,
      "metadata": {
        "colab": {
          "base_uri": "https://localhost:8080/",
          "height": 309
        },
        "id": "4BWnDLcV3er_",
        "outputId": "44d0683d-9835-418f-b645-fb4b790d914d"
      },
      "outputs": [
        {
          "data": {
            "image/png": "[encoded data removed]",
            "text/plain": [
              "<Figure size 1200x400 with 1 Axes>"
            ]
          },
          "metadata": {},
          "output_type": "display_data"
        }
      ],
      "source": [
        "plt.figure(figsize=(12,4))\n",
        "ax = sns.barplot(x=\"City\", y=\"Property_Price\", data=df)\n",
        "ax.set_xticklabels(ax.get_xticklabels());"
      ]
    },
    {
      "cell_type": "code",
      "execution_count": 28,
      "metadata": {},
      "outputs": [
        {
          "data": {
            "text/html": [
              "<div>\n",
              "<style scoped>\n",
              "    .dataframe tbody tr th:only-of-type {\n",
              "        vertical-align: middle;\n",
              "    }\n",
              "\n",
              "    .dataframe tbody tr th {\n",
              "        vertical-align: top;\n",
              "    }\n",
              "\n",
              "    .dataframe thead th {\n",
              "        text-align: right;\n",
              "    }\n",
              "</style>\n",
              "<table border=\"1\" class=\"dataframe\">\n",
              "  <thead>\n",
              "    <tr style=\"text-align: right;\">\n",
              "      <th></th>\n",
              "      <th>len</th>\n",
              "      <th>min</th>\n",
              "      <th>max</th>\n",
              "      <th>mean</th>\n",
              "    </tr>\n",
              "    <tr>\n",
              "      <th>City</th>\n",
              "      <th></th>\n",
              "      <th></th>\n",
              "      <th></th>\n",
              "      <th></th>\n",
              "    </tr>\n",
              "  </thead>\n",
              "  <tbody>\n",
              "    <tr>\n",
              "      <th>Islamabad</th>\n",
              "      <td>4778</td>\n",
              "      <td>0.200000</td>\n",
              "      <td>300.0</td>\n",
              "      <td>12.569527</td>\n",
              "    </tr>\n",
              "    <tr>\n",
              "      <th>Karachi</th>\n",
              "      <td>3226</td>\n",
              "      <td>1.090909</td>\n",
              "      <td>158.0</td>\n",
              "      <td>9.661230</td>\n",
              "    </tr>\n",
              "    <tr>\n",
              "      <th>Lahore</th>\n",
              "      <td>4715</td>\n",
              "      <td>1.000000</td>\n",
              "      <td>100.0</td>\n",
              "      <td>10.363966</td>\n",
              "    </tr>\n",
              "  </tbody>\n",
              "</table>\n",
              "</div>"
            ],
            "text/plain": [
              "            len       min    max       mean\n",
              "City                                       \n",
              "Islamabad  4778  0.200000  300.0  12.569527\n",
              "Karachi    3226  1.090909  158.0   9.661230\n",
              "Lahore     4715  1.000000  100.0  10.363966"
            ]
          },
          "execution_count": 28,
          "metadata": {},
          "output_type": "execute_result"
        }
      ],
      "source": [
        "city = df.groupby(['City']).Area.agg([len, min, max, np.mean])\n",
        "city"
      ]
    },
    {
      "cell_type": "code",
      "execution_count": 29,
      "metadata": {
        "colab": {
          "base_uri": "https://localhost:8080/",
          "height": 307
        },
        "id": "Y7ahgBqI30jX",
        "outputId": "59a6e8cd-e17e-4de1-fe83-70e4ba06672a"
      },
      "outputs": [
        {
          "name": "stderr",
          "output_type": "stream",
          "text": [
            "/tmp/ipykernel_30997/654995354.py:4: FutureWarning: The default value of numeric_only in DataFrame.corr is deprecated. In a future version, it will default to False. Select only valid columns or specify the value of numeric_only to silence this warning.\n",
            "  ax = sns.heatmap(df.corr(),annot = True)\n"
          ]
        },
        {
          "data": {
            "text/plain": [
              "Text(0.5, 1.0, 'CORRELATION MATRIX')"
            ]
          },
          "execution_count": 29,
          "metadata": {},
          "output_type": "execute_result"
        },
        {
          "data": {
            "image/png": "[encoded data removed]",
            "text/plain": [
              "<Figure size 1500x500 with 2 Axes>"
            ]
          },
          "metadata": {},
          "output_type": "display_data"
        }
      ],
      "source": [
        "# Checking correlation after cleaning\n",
        "# Checking correlation between the features\n",
        "plt.figure(figsize=(15,5))\n",
        "ax = sns.heatmap(df.corr(),annot = True)\n",
        "ax.set_title('CORRELATION MATRIX', fontsize=10)"
      ]
    },
    {
      "cell_type": "code",
      "execution_count": 30,
      "metadata": {
        "colab": {
          "base_uri": "https://localhost:8080/"
        },
        "id": "4kCOuiQ34FeC",
        "outputId": "61252792-e814-49b4-91a0-d81626ea822c"
      },
      "outputs": [
        {
          "data": {
            "text/plain": [
              "House    6638\n",
              "Flat     6081\n",
              "Name: Property_Type, dtype: int64"
            ]
          },
          "execution_count": 30,
          "metadata": {},
          "output_type": "execute_result"
        }
      ],
      "source": [
        "df['Property_Type'].value_counts()"
      ]
    },
    {
      "cell_type": "code",
      "execution_count": 31,
      "metadata": {
        "colab": {
          "base_uri": "https://localhost:8080/"
        },
        "id": "9yBDwAwY-Q7M",
        "outputId": "92a02971-96d2-40f8-afc5-580e5fa03f7d"
      },
      "outputs": [
        {
          "data": {
            "text/plain": [
              "For Rent    6600\n",
              "For Sale    6119\n",
              "Name: Property_Purpose, dtype: int64"
            ]
          },
          "execution_count": 31,
          "metadata": {},
          "output_type": "execute_result"
        }
      ],
      "source": [
        "df['Property_Purpose'].value_counts()"
      ]
    },
    {
      "cell_type": "code",
      "execution_count": 32,
      "metadata": {
        "colab": {
          "base_uri": "https://localhost:8080/"
        },
        "id": "-Ait7Reo-W-z",
        "outputId": "e232cf0d-6784-4f4c-daab-6b1bff49f1bb"
      },
      "outputs": [
        {
          "data": {
            "text/plain": [
              "Islamabad    4778\n",
              "Lahore       4715\n",
              "Karachi      3226\n",
              "Name: City, dtype: int64"
            ]
          },
          "execution_count": 32,
          "metadata": {},
          "output_type": "execute_result"
        }
      ],
      "source": [
        "df['City'].value_counts()"
      ]
    },
    {
      "cell_type": "code",
      "execution_count": 33,
      "metadata": {
        "colab": {
          "base_uri": "https://localhost:8080/",
          "height": 305
        },
        "id": "P2khbjvm-cWS",
        "outputId": "9d4fa58d-4553-4e62-93b9-0b01a6e43490"
      },
      "outputs": [
        {
          "data": {
            "text/html": [
              "<div>\n",
              "<style scoped>\n",
              "    .dataframe tbody tr th:only-of-type {\n",
              "        vertical-align: middle;\n",
              "    }\n",
              "\n",
              "    .dataframe tbody tr th {\n",
              "        vertical-align: top;\n",
              "    }\n",
              "\n",
              "    .dataframe thead th {\n",
              "        text-align: right;\n",
              "    }\n",
              "</style>\n",
              "<table border=\"1\" class=\"dataframe\">\n",
              "  <thead>\n",
              "    <tr style=\"text-align: right;\">\n",
              "      <th></th>\n",
              "      <th>Property_Type</th>\n",
              "      <th>Property_Purpose</th>\n",
              "      <th>Baths</th>\n",
              "      <th>Bedrooms</th>\n",
              "      <th>City</th>\n",
              "      <th>Area</th>\n",
              "      <th>Area_Name</th>\n",
              "      <th>Property_Price</th>\n",
              "    </tr>\n",
              "  </thead>\n",
              "  <tbody>\n",
              "    <tr>\n",
              "      <th>0</th>\n",
              "      <td>Flat</td>\n",
              "      <td>For Sale</td>\n",
              "      <td>1</td>\n",
              "      <td>1</td>\n",
              "      <td>Lahore</td>\n",
              "      <td>2.1</td>\n",
              "      <td>Bahria Town</td>\n",
              "      <td>3900000</td>\n",
              "    </tr>\n",
              "    <tr>\n",
              "      <th>1</th>\n",
              "      <td>Flat</td>\n",
              "      <td>For Sale</td>\n",
              "      <td>1</td>\n",
              "      <td>5</td>\n",
              "      <td>Lahore</td>\n",
              "      <td>2.2</td>\n",
              "      <td>Raiwind Road</td>\n",
              "      <td>6000000</td>\n",
              "    </tr>\n",
              "    <tr>\n",
              "      <th>2</th>\n",
              "      <td>Flat</td>\n",
              "      <td>For Sale</td>\n",
              "      <td>3</td>\n",
              "      <td>3</td>\n",
              "      <td>Lahore</td>\n",
              "      <td>10.0</td>\n",
              "      <td>Askari</td>\n",
              "      <td>30000000</td>\n",
              "    </tr>\n",
              "    <tr>\n",
              "      <th>3</th>\n",
              "      <td>Flat</td>\n",
              "      <td>For Sale</td>\n",
              "      <td>3</td>\n",
              "      <td>3</td>\n",
              "      <td>Lahore</td>\n",
              "      <td>10.0</td>\n",
              "      <td>Askari</td>\n",
              "      <td>30000000</td>\n",
              "    </tr>\n",
              "    <tr>\n",
              "      <th>4</th>\n",
              "      <td>Flat</td>\n",
              "      <td>For Sale</td>\n",
              "      <td>3</td>\n",
              "      <td>3</td>\n",
              "      <td>Lahore</td>\n",
              "      <td>10.0</td>\n",
              "      <td>Askari</td>\n",
              "      <td>30000000</td>\n",
              "    </tr>\n",
              "  </tbody>\n",
              "</table>\n",
              "</div>"
            ],
            "text/plain": [
              "  Property_Type Property_Purpose  Baths  Bedrooms    City  Area     Area_Name  \\\n",
              "0          Flat         For Sale      1         1  Lahore   2.1   Bahria Town   \n",
              "1          Flat         For Sale      1         5  Lahore   2.2  Raiwind Road   \n",
              "2          Flat         For Sale      3         3  Lahore  10.0        Askari   \n",
              "3          Flat         For Sale      3         3  Lahore  10.0        Askari   \n",
              "4          Flat         For Sale      3         3  Lahore  10.0        Askari   \n",
              "\n",
              "   Property_Price  \n",
              "0         3900000  \n",
              "1         6000000  \n",
              "2        30000000  \n",
              "3        30000000  \n",
              "4        30000000  "
            ]
          },
          "execution_count": 33,
          "metadata": {},
          "output_type": "execute_result"
        }
      ],
      "source": [
        "df.head()"
      ]
    },
    {
      "cell_type": "code",
      "execution_count": 34,
      "metadata": {
        "colab": {
          "base_uri": "https://localhost:8080/",
          "height": 121
        },
        "id": "qIyORez3-nBD",
        "outputId": "b0a4a593-74d8-432b-e34c-4405a24482b8"
      },
      "outputs": [
        {
          "data": {
            "text/plain": [
              "<AxesSubplot: >"
            ]
          },
          "execution_count": 34,
          "metadata": {},
          "output_type": "execute_result"
        },
        {
          "data": {
            "image/png": "[encoded data removed]",
            "text/plain": [
              "<Figure size 8000x1000 with 1 Axes>"
            ]
          },
          "metadata": {},
          "output_type": "display_data"
        }
      ],
      "source": [
        "#Checking outliers in Price\n",
        "df[\"Property_Price\"].plot.box(vert = 0, figsize=(80,10))"
      ]
    },
    {
      "cell_type": "code",
      "execution_count": 35,
      "metadata": {
        "colab": {
          "base_uri": "https://localhost:8080/"
        },
        "id": "b8C8QGWR_PrM",
        "outputId": "ed330bf2-6828-41a2-e1a3-585a7512ccd7"
      },
      "outputs": [
        {
          "data": {
            "text/plain": [
              "49"
            ]
          },
          "execution_count": 35,
          "metadata": {},
          "output_type": "execute_result"
        }
      ],
      "source": [
        "df.Property_Price[df.Property_Price > 400000000].count()"
      ]
    },
    {
      "cell_type": "code",
      "execution_count": 36,
      "metadata": {
        "colab": {
          "base_uri": "https://localhost:8080/",
          "height": 120
        },
        "id": "kbPAO8ZQ_u7C",
        "outputId": "da532734-6b27-49ac-ffc9-35175c803237"
      },
      "outputs": [
        {
          "data": {
            "text/plain": [
              "<AxesSubplot: >"
            ]
          },
          "execution_count": 36,
          "metadata": {},
          "output_type": "execute_result"
        },
        {
          "data": {
            "image/png": "[encoded data removed]",
            "text/plain": [
              "<Figure size 8000x1000 with 1 Axes>"
            ]
          },
          "metadata": {},
          "output_type": "display_data"
        }
      ],
      "source": [
        "df[\"Area\"].plot.box(vert = 0, figsize=(80,10))"
      ]
    },
    {
      "cell_type": "code",
      "execution_count": 37,
      "metadata": {
        "colab": {
          "base_uri": "https://localhost:8080/",
          "height": 175
        },
        "id": "gWw5O-KO_8Hq",
        "outputId": "57a016aa-2dd4-488e-e0a0-62acc5be6af8"
      },
      "outputs": [
        {
          "data": {
            "text/html": [
              "<div>\n",
              "<style scoped>\n",
              "    .dataframe tbody tr th:only-of-type {\n",
              "        vertical-align: middle;\n",
              "    }\n",
              "\n",
              "    .dataframe tbody tr th {\n",
              "        vertical-align: top;\n",
              "    }\n",
              "\n",
              "    .dataframe thead th {\n",
              "        text-align: right;\n",
              "    }\n",
              "</style>\n",
              "<table border=\"1\" class=\"dataframe\">\n",
              "  <thead>\n",
              "    <tr style=\"text-align: right;\">\n",
              "      <th></th>\n",
              "      <th>len</th>\n",
              "      <th>min</th>\n",
              "      <th>max</th>\n",
              "    </tr>\n",
              "    <tr>\n",
              "      <th>City</th>\n",
              "      <th></th>\n",
              "      <th></th>\n",
              "      <th></th>\n",
              "    </tr>\n",
              "  </thead>\n",
              "  <tbody>\n",
              "    <tr>\n",
              "      <th>Islamabad</th>\n",
              "      <td>4778</td>\n",
              "      <td>0.200000</td>\n",
              "      <td>300.0</td>\n",
              "    </tr>\n",
              "    <tr>\n",
              "      <th>Karachi</th>\n",
              "      <td>3226</td>\n",
              "      <td>1.090909</td>\n",
              "      <td>158.0</td>\n",
              "    </tr>\n",
              "    <tr>\n",
              "      <th>Lahore</th>\n",
              "      <td>4715</td>\n",
              "      <td>1.000000</td>\n",
              "      <td>100.0</td>\n",
              "    </tr>\n",
              "  </tbody>\n",
              "</table>\n",
              "</div>"
            ],
            "text/plain": [
              "            len       min    max\n",
              "City                            \n",
              "Islamabad  4778  0.200000  300.0\n",
              "Karachi    3226  1.090909  158.0\n",
              "Lahore     4715  1.000000  100.0"
            ]
          },
          "execution_count": 37,
          "metadata": {},
          "output_type": "execute_result"
        }
      ],
      "source": [
        "city = df.groupby(['City']).Area.agg([len, min, max])\n",
        "city"
      ]
    },
    {
      "cell_type": "code",
      "execution_count": 38,
      "metadata": {
        "colab": {
          "base_uri": "https://localhost:8080/"
        },
        "id": "Qwse0csTAdko",
        "outputId": "91fc410d-9822-42a1-e1fd-cefc0646a585"
      },
      "outputs": [
        {
          "data": {
            "text/plain": [
              "7"
            ]
          },
          "execution_count": 38,
          "metadata": {},
          "output_type": "execute_result"
        }
      ],
      "source": [
        "df.Area[df.Area > 100].count()"
      ]
    },
    {
      "cell_type": "code",
      "execution_count": 39,
      "metadata": {
        "id": "ub83iXidA1ux"
      },
      "outputs": [],
      "source": [
        "#Removing rows with area greater than 100 and price greater than 80 Crores\n",
        "df = df[df.Area < 100]\n",
        "df = df[df.Property_Price < 800000000]"
      ]
    },
    {
      "cell_type": "code",
      "execution_count": 40,
      "metadata": {
        "colab": {
          "base_uri": "https://localhost:8080/",
          "height": 120
        },
        "id": "kVGBo-CFAqIY",
        "outputId": "8cbf2a42-572d-4927-d29c-e62b1036de13"
      },
      "outputs": [
        {
          "data": {
            "text/plain": [
              "<AxesSubplot: >"
            ]
          },
          "execution_count": 40,
          "metadata": {},
          "output_type": "execute_result"
        },
        {
          "data": {
            "image/png": "[encoded data removed]",
            "text/plain": [
              "<Figure size 8000x1000 with 1 Axes>"
            ]
          },
          "metadata": {},
          "output_type": "display_data"
        }
      ],
      "source": [
        "df[\"Area\"].plot.box(vert = 0, figsize=(80,10))"
      ]
    },
    {
      "cell_type": "code",
      "execution_count": 41,
      "metadata": {
        "colab": {
          "base_uri": "https://localhost:8080/",
          "height": 121
        },
        "id": "3huvt8OUBQ6r",
        "outputId": "d7617677-3277-41c4-d0eb-bf37ef26ae4a"
      },
      "outputs": [
        {
          "data": {
            "text/plain": [
              "<AxesSubplot: >"
            ]
          },
          "execution_count": 41,
          "metadata": {},
          "output_type": "execute_result"
        },
        {
          "data": {
            "image/png": "[encoded data removed]",
            "text/plain": [
              "<Figure size 8000x1000 with 1 Axes>"
            ]
          },
          "metadata": {},
          "output_type": "display_data"
        }
      ],
      "source": [
        "df[\"Property_Price\"].plot.box(vert = 0, figsize=(80,10))"
      ]
    },
    {
      "cell_type": "code",
      "execution_count": 42,
      "metadata": {
        "id": "_s79aWbcBt8l"
      },
      "outputs": [],
      "source": [
        "df.to_csv('final_data_processed.csv', index=False)"
      ]
    },
    {
      "cell_type": "code",
      "execution_count": 43,
      "metadata": {
        "colab": {
          "base_uri": "https://localhost:8080/"
        },
        "id": "2pefbviDFCMT",
        "outputId": "37241edf-b50c-4f95-f7ba-fa4fe9b82327"
      },
      "outputs": [
        {
          "name": "stdout",
          "output_type": "stream",
          "text": [
            "4277 1833\n"
          ]
        }
      ],
      "source": [
        "# Running the model on 'For Sale' properties only as the prices for rental property are lesser than sale property\n",
        "# and can impact the accuracy of the model\n",
        "df_for_sale = pd.read_csv('final_data_processed.csv')\n",
        "df_for_sale = df_for_sale[df_for_sale[\"Property_Purpose\"]==\"For Sale\"]\n",
        "df_for_sale.drop(df_for_sale.columns[[1]], axis=1, inplace=True)\n",
        "df_for_sale = pd.get_dummies(df_for_sale, columns = ['Property_Type','City', 'Area_Name'])\n",
        "labels = df_for_sale[\"Property_Price\"]\n",
        "train = df_for_sale.drop(columns=[\"Property_Price\"])\n",
        "x_train, x_test, y_train, y_test = train_test_split(train, labels, test_size=0.3, random_state = 12)\n",
        "print(len(x_train),len(x_test))"
      ]
    },
    {
      "cell_type": "code",
      "execution_count": 44,
      "metadata": {
        "colab": {
          "base_uri": "https://localhost:8080/",
          "height": 334
        },
        "id": "sYsKNkDpHKEf",
        "outputId": "2e60f6bc-9832-4cea-8f15-7a616b9b62c6"
      },
      "outputs": [
        {
          "data": {
            "text/html": [
              "<div>\n",
              "<style scoped>\n",
              "    .dataframe tbody tr th:only-of-type {\n",
              "        vertical-align: middle;\n",
              "    }\n",
              "\n",
              "    .dataframe tbody tr th {\n",
              "        vertical-align: top;\n",
              "    }\n",
              "\n",
              "    .dataframe thead th {\n",
              "        text-align: right;\n",
              "    }\n",
              "</style>\n",
              "<table border=\"1\" class=\"dataframe\">\n",
              "  <thead>\n",
              "    <tr style=\"text-align: right;\">\n",
              "      <th></th>\n",
              "      <th>Baths</th>\n",
              "      <th>Bedrooms</th>\n",
              "      <th>Area</th>\n",
              "      <th>Property_Price</th>\n",
              "      <th>Property_Type_Flat</th>\n",
              "      <th>Property_Type_House</th>\n",
              "      <th>City_Islamabad</th>\n",
              "      <th>City_Karachi</th>\n",
              "      <th>City_Lahore</th>\n",
              "      <th>Area_Name_9th Avenue</th>\n",
              "      <th>...</th>\n",
              "      <th>Area_Name_Top City 1</th>\n",
              "      <th>Area_Name_University Road</th>\n",
              "      <th>Area_Name_University Town</th>\n",
              "      <th>Area_Name_Valencia Housing Society</th>\n",
              "      <th>Area_Name_Venus Housing Scheme</th>\n",
              "      <th>Area_Name_Vital Homes Housing Scheme</th>\n",
              "      <th>Area_Name_Walton Road</th>\n",
              "      <th>Area_Name_Wapda Town</th>\n",
              "      <th>Area_Name_Zamzama</th>\n",
              "      <th>Area_Name_Zaraj Housing Scheme</th>\n",
              "    </tr>\n",
              "  </thead>\n",
              "  <tbody>\n",
              "    <tr>\n",
              "      <th>0</th>\n",
              "      <td>1</td>\n",
              "      <td>1</td>\n",
              "      <td>2.1</td>\n",
              "      <td>3900000</td>\n",
              "      <td>1</td>\n",
              "      <td>0</td>\n",
              "      <td>0</td>\n",
              "      <td>0</td>\n",
              "      <td>1</td>\n",
              "      <td>0</td>\n",
              "      <td>...</td>\n",
              "      <td>0</td>\n",
              "      <td>0</td>\n",
              "      <td>0</td>\n",
              "      <td>0</td>\n",
              "      <td>0</td>\n",
              "      <td>0</td>\n",
              "      <td>0</td>\n",
              "      <td>0</td>\n",
              "      <td>0</td>\n",
              "      <td>0</td>\n",
              "    </tr>\n",
              "    <tr>\n",
              "      <th>1</th>\n",
              "      <td>1</td>\n",
              "      <td>5</td>\n",
              "      <td>2.2</td>\n",
              "      <td>6000000</td>\n",
              "      <td>1</td>\n",
              "      <td>0</td>\n",
              "      <td>0</td>\n",
              "      <td>0</td>\n",
              "      <td>1</td>\n",
              "      <td>0</td>\n",
              "      <td>...</td>\n",
              "      <td>0</td>\n",
              "      <td>0</td>\n",
              "      <td>0</td>\n",
              "      <td>0</td>\n",
              "      <td>0</td>\n",
              "      <td>0</td>\n",
              "      <td>0</td>\n",
              "      <td>0</td>\n",
              "      <td>0</td>\n",
              "      <td>0</td>\n",
              "    </tr>\n",
              "    <tr>\n",
              "      <th>2</th>\n",
              "      <td>3</td>\n",
              "      <td>3</td>\n",
              "      <td>10.0</td>\n",
              "      <td>30000000</td>\n",
              "      <td>1</td>\n",
              "      <td>0</td>\n",
              "      <td>0</td>\n",
              "      <td>0</td>\n",
              "      <td>1</td>\n",
              "      <td>0</td>\n",
              "      <td>...</td>\n",
              "      <td>0</td>\n",
              "      <td>0</td>\n",
              "      <td>0</td>\n",
              "      <td>0</td>\n",
              "      <td>0</td>\n",
              "      <td>0</td>\n",
              "      <td>0</td>\n",
              "      <td>0</td>\n",
              "      <td>0</td>\n",
              "      <td>0</td>\n",
              "    </tr>\n",
              "    <tr>\n",
              "      <th>3</th>\n",
              "      <td>3</td>\n",
              "      <td>3</td>\n",
              "      <td>10.0</td>\n",
              "      <td>30000000</td>\n",
              "      <td>1</td>\n",
              "      <td>0</td>\n",
              "      <td>0</td>\n",
              "      <td>0</td>\n",
              "      <td>1</td>\n",
              "      <td>0</td>\n",
              "      <td>...</td>\n",
              "      <td>0</td>\n",
              "      <td>0</td>\n",
              "      <td>0</td>\n",
              "      <td>0</td>\n",
              "      <td>0</td>\n",
              "      <td>0</td>\n",
              "      <td>0</td>\n",
              "      <td>0</td>\n",
              "      <td>0</td>\n",
              "      <td>0</td>\n",
              "    </tr>\n",
              "    <tr>\n",
              "      <th>4</th>\n",
              "      <td>3</td>\n",
              "      <td>3</td>\n",
              "      <td>10.0</td>\n",
              "      <td>30000000</td>\n",
              "      <td>1</td>\n",
              "      <td>0</td>\n",
              "      <td>0</td>\n",
              "      <td>0</td>\n",
              "      <td>1</td>\n",
              "      <td>0</td>\n",
              "      <td>...</td>\n",
              "      <td>0</td>\n",
              "      <td>0</td>\n",
              "      <td>0</td>\n",
              "      <td>0</td>\n",
              "      <td>0</td>\n",
              "      <td>0</td>\n",
              "      <td>0</td>\n",
              "      <td>0</td>\n",
              "      <td>0</td>\n",
              "      <td>0</td>\n",
              "    </tr>\n",
              "  </tbody>\n",
              "</table>\n",
              "<p>5 rows × 253 columns</p>\n",
              "</div>"
            ],
            "text/plain": [
              "   Baths  Bedrooms  Area  Property_Price  Property_Type_Flat  \\\n",
              "0      1         1   2.1         3900000                   1   \n",
              "1      1         5   2.2         6000000                   1   \n",
              "2      3         3  10.0        30000000                   1   \n",
              "3      3         3  10.0        30000000                   1   \n",
              "4      3         3  10.0        30000000                   1   \n",
              "\n",
              "   Property_Type_House  City_Islamabad  City_Karachi  City_Lahore  \\\n",
              "0                    0               0             0            1   \n",
              "1                    0               0             0            1   \n",
              "2                    0               0             0            1   \n",
              "3                    0               0             0            1   \n",
              "4                    0               0             0            1   \n",
              "\n",
              "   Area_Name_9th Avenue  ...  Area_Name_Top City 1  Area_Name_University Road  \\\n",
              "0                     0  ...                     0                          0   \n",
              "1                     0  ...                     0                          0   \n",
              "2                     0  ...                     0                          0   \n",
              "3                     0  ...                     0                          0   \n",
              "4                     0  ...                     0                          0   \n",
              "\n",
              "   Area_Name_University Town  Area_Name_Valencia Housing Society  \\\n",
              "0                          0                                   0   \n",
              "1                          0                                   0   \n",
              "2                          0                                   0   \n",
              "3                          0                                   0   \n",
              "4                          0                                   0   \n",
              "\n",
              "   Area_Name_Venus Housing Scheme  Area_Name_Vital Homes Housing Scheme  \\\n",
              "0                               0                                     0   \n",
              "1                               0                                     0   \n",
              "2                               0                                     0   \n",
              "3                               0                                     0   \n",
              "4                               0                                     0   \n",
              "\n",
              "   Area_Name_Walton Road  Area_Name_Wapda Town  Area_Name_Zamzama  \\\n",
              "0                      0                     0                  0   \n",
              "1                      0                     0                  0   \n",
              "2                      0                     0                  0   \n",
              "3                      0                     0                  0   \n",
              "4                      0                     0                  0   \n",
              "\n",
              "   Area_Name_Zaraj Housing Scheme  \n",
              "0                               0  \n",
              "1                               0  \n",
              "2                               0  \n",
              "3                               0  \n",
              "4                               0  \n",
              "\n",
              "[5 rows x 253 columns]"
            ]
          },
          "execution_count": 44,
          "metadata": {},
          "output_type": "execute_result"
        }
      ],
      "source": [
        "df_for_sale.head()"
      ]
    },
    {
      "cell_type": "code",
      "execution_count": 45,
      "metadata": {},
      "outputs": [
        {
          "data": {
            "text/plain": [
              "0.8792320598634673"
            ]
          },
          "execution_count": 45,
          "metadata": {},
          "output_type": "execute_result"
        }
      ],
      "source": [
        "# Linear Regression\n",
        "from sklearn.linear_model import LinearRegression\n",
        "\n",
        "lr = LinearRegression()\n",
        "lr.fit(x_train, y_train)\n",
        "lr.score(x_test, y_test)"
      ]
    },
    {
      "cell_type": "code",
      "execution_count": 46,
      "metadata": {},
      "outputs": [],
      "source": [
        "#save linear regression model\n",
        "import pickle\n",
        "filename = 'finalized_model_LR.sav'\n",
        "pickle.dump(lr, open(filename, 'wb'))"
      ]
    },
    {
      "cell_type": "code",
      "execution_count": 47,
      "metadata": {
        "colab": {
          "base_uri": "https://localhost:8080/"
        },
        "id": "N8qMOvT0GpiX",
        "outputId": "a79d78ae-6685-40ed-c2f4-e3e7630bae06"
      },
      "outputs": [
        {
          "data": {
            "text/plain": [
              "0.8830131308302522"
            ]
          },
          "execution_count": 47,
          "metadata": {},
          "output_type": "execute_result"
        }
      ],
      "source": [
        "from sklearn.ensemble import GradientBoostingRegressor\n",
        "\n",
        "est = GradientBoostingRegressor(n_estimators = 250, max_depth = 6, learning_rate = 0.01)\n",
        "est.fit(x_train, y_train)\n",
        "est.score(x_test, y_test)"
      ]
    },
    {
      "cell_type": "code",
      "execution_count": 48,
      "metadata": {},
      "outputs": [],
      "source": [
        "#save est model\n",
        "filename = 'finalized_model_GBR.sav'\n",
        "pickle.dump(est, open(filename, 'wb'))"
      ]
    },
    {
      "cell_type": "code",
      "execution_count": 49,
      "metadata": {},
      "outputs": [
        {
          "data": {
            "text/plain": [
              "-0.08075235049955443"
            ]
          },
          "execution_count": 49,
          "metadata": {},
          "output_type": "execute_result"
        }
      ],
      "source": [
        "# Fitting SVM to the Training set\n",
        "from sklearn.svm import SVR\n",
        "regressor = SVR(kernel='rbf')\n",
        "regressor.fit(x_train, y_train)\n",
        "regressor.score(x_test, y_test)"
      ]
    },
    {
      "cell_type": "code",
      "execution_count": 50,
      "metadata": {},
      "outputs": [],
      "source": [
        "#save est model\n",
        "filename = 'finalized_model_SVR.sav'\n",
        "pickle.dump(est, open(filename, 'wb'))"
      ]
    },
    {
      "cell_type": "code",
      "execution_count": 51,
      "metadata": {},
      "outputs": [
        {
          "name": "stdout",
          "output_type": "stream",
          "text": [
            "Iteration 1, loss = 3556646853823777.50000000\n",
            "Iteration 2, loss = 3556629935857092.00000000\n",
            "Iteration 3, loss = 3556522641554284.50000000\n",
            "Iteration 4, loss = 3556043958756826.00000000\n",
            "Iteration 5, loss = 3554653044706349.00000000\n",
            "Iteration 6, loss = 3551184003570399.50000000\n",
            "Iteration 7, loss = 3544155345040634.50000000\n",
            "Iteration 8, loss = 3531209650880427.50000000\n",
            "Iteration 9, loss = 3509623527314577.50000000\n",
            "Iteration 10, loss = 3475978268338357.00000000\n",
            "Iteration 11, loss = 3427958115598867.50000000\n",
            "Iteration 12, loss = 3360371995196022.00000000\n",
            "Iteration 13, loss = 3270197366606617.00000000\n",
            "Iteration 14, loss = 3154342997800688.00000000\n",
            "Iteration 15, loss = 3008804463903354.00000000\n",
            "Iteration 16, loss = 2838574890391985.50000000\n",
            "Iteration 17, loss = 2644188405614540.50000000\n",
            "Iteration 18, loss = 2427133353944326.00000000\n",
            "Iteration 19, loss = 2199318888397200.75000000\n",
            "Iteration 20, loss = 1975154507386864.00000000\n",
            "Iteration 21, loss = 1756578900726235.50000000\n",
            "Iteration 22, loss = 1567346710856535.00000000\n",
            "Iteration 23, loss = 1408327988263977.75000000\n",
            "Iteration 24, loss = 1282476575039469.75000000\n",
            "Iteration 25, loss = 1196693621869049.00000000\n",
            "Iteration 26, loss = 1142523040115565.50000000\n",
            "Iteration 27, loss = 1103937524688461.50000000\n",
            "Iteration 28, loss = 1082464086196374.87500000\n",
            "Iteration 29, loss = 1065983678673962.87500000\n",
            "Iteration 30, loss = 1053542428084298.37500000\n",
            "Iteration 31, loss = 1042992271468598.62500000\n",
            "Iteration 32, loss = 1032961840096721.50000000\n",
            "Iteration 33, loss = 1023448820844703.87500000\n",
            "Iteration 34, loss = 1015073146644058.50000000\n",
            "Iteration 35, loss = 1005642996358971.25000000\n",
            "Iteration 36, loss = 997280058956579.87500000\n",
            "Iteration 37, loss = 988426193494999.00000000\n",
            "Iteration 38, loss = 980257606946697.87500000\n",
            "Iteration 39, loss = 972357894622262.62500000\n",
            "Iteration 40, loss = 964471098936662.25000000\n",
            "Iteration 41, loss = 956167352109580.50000000\n",
            "Iteration 42, loss = 948642826788563.62500000\n",
            "Iteration 43, loss = 941526566291864.00000000\n",
            "Iteration 44, loss = 933675942055438.62500000\n",
            "Iteration 45, loss = 925828269474270.12500000\n",
            "Iteration 46, loss = 918775520766498.12500000\n",
            "Iteration 47, loss = 911828366959532.37500000\n",
            "Iteration 48, loss = 904737261962755.00000000\n",
            "Iteration 49, loss = 897868521528907.00000000\n",
            "Iteration 50, loss = 890765045288369.12500000\n",
            "Iteration 51, loss = 883908356587961.87500000\n",
            "Iteration 52, loss = 877416305418603.25000000\n",
            "Iteration 53, loss = 870675590633844.25000000\n",
            "Iteration 54, loss = 864382915816461.00000000\n",
            "Iteration 55, loss = 857874700830915.12500000\n",
            "Iteration 56, loss = 852055258206947.25000000\n",
            "Iteration 57, loss = 845583931558368.50000000\n",
            "Iteration 58, loss = 839623648384161.50000000\n",
            "Iteration 59, loss = 833686503123297.50000000\n",
            "Iteration 60, loss = 827951736355917.00000000\n",
            "Iteration 61, loss = 822385328082717.00000000\n",
            "Iteration 62, loss = 816693297881952.75000000\n",
            "Iteration 63, loss = 811310789936352.62500000\n",
            "Iteration 64, loss = 805926549090691.50000000\n",
            "Iteration 65, loss = 800962758242919.37500000\n",
            "Iteration 66, loss = 795650080961222.62500000\n",
            "Iteration 67, loss = 790463363087123.75000000\n",
            "Iteration 68, loss = 785320141324156.37500000\n",
            "Iteration 69, loss = 781079020133866.75000000\n",
            "Iteration 70, loss = 776367093396915.25000000\n",
            "Iteration 71, loss = 771670996435775.75000000\n",
            "Iteration 72, loss = 768057968422207.12500000\n",
            "Iteration 73, loss = 763206740508979.62500000\n",
            "Iteration 74, loss = 759134143657801.87500000\n",
            "Iteration 75, loss = 755358628570068.87500000\n",
            "Iteration 76, loss = 751545349479671.50000000\n",
            "Iteration 77, loss = 747547541963473.50000000\n",
            "Iteration 78, loss = 743910748060487.62500000\n",
            "Iteration 79, loss = 740554874056086.62500000\n",
            "Iteration 80, loss = 737700302909629.87500000\n",
            "Iteration 81, loss = 734598042273658.87500000\n",
            "Iteration 82, loss = 731530262046145.12500000\n",
            "Iteration 83, loss = 728266251121716.37500000\n",
            "Iteration 84, loss = 725729427528750.25000000\n",
            "Iteration 85, loss = 722810361403434.12500000\n",
            "Iteration 86, loss = 719827691888848.87500000\n",
            "Iteration 87, loss = 718060194834872.75000000\n",
            "Iteration 88, loss = 714994479493460.75000000\n",
            "Iteration 89, loss = 712107767676017.12500000\n",
            "Iteration 90, loss = 710094884512135.87500000\n",
            "Iteration 91, loss = 707726097132912.62500000\n",
            "Iteration 92, loss = 705681347030029.37500000\n",
            "Iteration 93, loss = 704053775936773.00000000\n",
            "Iteration 94, loss = 702319516374260.62500000\n",
            "Iteration 95, loss = 699818574822925.37500000\n",
            "Iteration 96, loss = 697807880534194.87500000\n",
            "Iteration 97, loss = 696443395095016.62500000\n",
            "Iteration 98, loss = 694477804818552.87500000\n",
            "Iteration 99, loss = 692797249375214.00000000\n",
            "Iteration 100, loss = 691534550805977.37500000\n",
            "Iteration 101, loss = 689961074286969.62500000\n",
            "Iteration 102, loss = 688508391208091.50000000\n",
            "Iteration 103, loss = 687204647639836.37500000\n",
            "Iteration 104, loss = 685674356066270.75000000\n",
            "Iteration 105, loss = 684469258107540.00000000\n",
            "Iteration 106, loss = 682709880869916.37500000\n",
            "Iteration 107, loss = 681649610045916.25000000\n",
            "Iteration 108, loss = 680431123134682.62500000\n",
            "Iteration 109, loss = 678942587022031.50000000\n",
            "Iteration 110, loss = 677606084222239.75000000\n",
            "Iteration 111, loss = 676469792614929.25000000\n",
            "Iteration 112, loss = 675298625404620.87500000\n",
            "Iteration 113, loss = 674234305870028.12500000\n",
            "Iteration 114, loss = 673137895919598.87500000\n",
            "Iteration 115, loss = 671957864071532.50000000\n",
            "Iteration 116, loss = 671069388761093.00000000\n",
            "Iteration 117, loss = 669727877137109.12500000\n",
            "Iteration 118, loss = 669180124092294.25000000\n",
            "Iteration 119, loss = 668450082714861.75000000\n",
            "Iteration 120, loss = 667025665426551.87500000\n",
            "Iteration 121, loss = 666089547406629.87500000\n",
            "Iteration 122, loss = 665681322459020.37500000\n",
            "Iteration 123, loss = 663945073335265.12500000\n",
            "Iteration 124, loss = 663053836858830.87500000\n",
            "Iteration 125, loss = 662104712631620.25000000\n",
            "Iteration 126, loss = 661104886287430.75000000\n",
            "Iteration 127, loss = 660240629837127.87500000\n",
            "Iteration 128, loss = 659954341470328.75000000\n",
            "Iteration 129, loss = 658531887580424.50000000\n",
            "Iteration 130, loss = 657925330602998.50000000\n",
            "Iteration 131, loss = 656777746257904.25000000\n",
            "Iteration 132, loss = 656213696868710.50000000\n",
            "Iteration 133, loss = 654892147554710.62500000\n",
            "Iteration 134, loss = 654444487525174.37500000\n",
            "Iteration 135, loss = 653126661813301.62500000\n",
            "Iteration 136, loss = 652377670562670.00000000\n",
            "Iteration 137, loss = 651393833031681.25000000\n",
            "Iteration 138, loss = 650645722927784.12500000\n",
            "Iteration 139, loss = 649823806937010.75000000\n",
            "Iteration 140, loss = 648930760845394.00000000\n",
            "Iteration 141, loss = 648186198712935.62500000\n",
            "Iteration 142, loss = 647565790151194.87500000\n",
            "Iteration 143, loss = 646364139602920.12500000\n",
            "Iteration 144, loss = 645890561338617.25000000\n",
            "Iteration 145, loss = 645382930940699.87500000\n",
            "Iteration 146, loss = 644024381889990.00000000\n",
            "Iteration 147, loss = 643587682901977.50000000\n",
            "Iteration 148, loss = 642292083296746.87500000\n",
            "Iteration 149, loss = 641810209427110.62500000\n",
            "Iteration 150, loss = 641089826257662.62500000\n",
            "Iteration 151, loss = 641585864214387.25000000\n",
            "Iteration 152, loss = 640072313095834.75000000\n",
            "Iteration 153, loss = 638878170811938.37500000\n",
            "Iteration 154, loss = 637815097269885.00000000\n",
            "Iteration 155, loss = 636899495842570.62500000\n",
            "Iteration 156, loss = 636507817188010.37500000\n",
            "Iteration 157, loss = 635092296384477.75000000\n",
            "Iteration 158, loss = 635124361119061.37500000\n",
            "Iteration 159, loss = 633209731997898.25000000\n",
            "Iteration 160, loss = 633834534904351.37500000\n",
            "Iteration 161, loss = 632181244434468.37500000\n",
            "Iteration 162, loss = 631342605715202.00000000\n",
            "Iteration 163, loss = 631691595954206.62500000\n",
            "Iteration 164, loss = 629645631172097.37500000\n",
            "Iteration 165, loss = 629835841803457.62500000\n",
            "Iteration 166, loss = 628758766929109.37500000\n",
            "Iteration 167, loss = 627364660006135.87500000\n",
            "Iteration 168, loss = 626966712474676.37500000\n",
            "Iteration 169, loss = 626073808289559.37500000\n",
            "Iteration 170, loss = 626048158105952.12500000\n",
            "Iteration 171, loss = 624387787579452.87500000\n",
            "Iteration 172, loss = 623996219117506.37500000\n",
            "Iteration 173, loss = 622878628614281.75000000\n",
            "Iteration 174, loss = 622204374721675.50000000\n",
            "Iteration 175, loss = 621267775398290.25000000\n",
            "Iteration 176, loss = 621225379410140.25000000\n",
            "Iteration 177, loss = 620190805793229.37500000\n",
            "Iteration 178, loss = 618661156971263.75000000\n",
            "Iteration 179, loss = 618543608893602.62500000\n",
            "Iteration 180, loss = 617364628319969.75000000\n",
            "Iteration 181, loss = 616933090993615.75000000\n",
            "Iteration 182, loss = 616783116457387.37500000\n",
            "Iteration 183, loss = 615024924212562.75000000\n",
            "Iteration 184, loss = 614775881365281.00000000\n",
            "Iteration 185, loss = 613827689084274.50000000\n",
            "Iteration 186, loss = 613564498254683.75000000\n",
            "Iteration 187, loss = 611964533910860.87500000\n",
            "Iteration 188, loss = 611232801529174.87500000\n",
            "Iteration 189, loss = 610354769583937.00000000\n",
            "Iteration 190, loss = 609648974906678.12500000\n",
            "Iteration 191, loss = 609364363509152.12500000\n",
            "Iteration 192, loss = 608230286741258.50000000\n",
            "Iteration 193, loss = 607490171376969.75000000\n",
            "Iteration 194, loss = 606426746049489.62500000\n",
            "Iteration 195, loss = 605466904620950.62500000\n",
            "Iteration 196, loss = 604836361727035.12500000\n",
            "Iteration 197, loss = 603741741401604.25000000\n",
            "Iteration 198, loss = 603608999091782.50000000\n",
            "Iteration 199, loss = 601637598174219.87500000\n",
            "Iteration 200, loss = 601391898351557.75000000\n",
            "Iteration 201, loss = 600384319190650.37500000\n",
            "Iteration 202, loss = 599505429522289.00000000\n",
            "Iteration 203, loss = 599018930384893.62500000\n",
            "Iteration 204, loss = 598191047561952.62500000\n",
            "Iteration 205, loss = 596923918692479.50000000\n",
            "Iteration 206, loss = 596094984269813.62500000\n",
            "Iteration 207, loss = 595198516433123.00000000\n",
            "Iteration 208, loss = 594066401963572.12500000\n",
            "Iteration 209, loss = 593409545191272.87500000\n",
            "Iteration 210, loss = 592570207229605.62500000\n",
            "Iteration 211, loss = 591474271829751.62500000\n",
            "Iteration 212, loss = 590364686438684.00000000\n",
            "Iteration 213, loss = 589579414827334.50000000\n",
            "Iteration 214, loss = 588883972840432.00000000\n",
            "Iteration 215, loss = 588183912652593.87500000\n",
            "Iteration 216, loss = 587498481762414.12500000\n",
            "Iteration 217, loss = 585808661741397.87500000\n",
            "Iteration 218, loss = 584705420647889.12500000\n",
            "Iteration 219, loss = 583551702352675.37500000\n",
            "Iteration 220, loss = 582804398136266.62500000\n",
            "Iteration 221, loss = 581592423767802.37500000\n",
            "Iteration 222, loss = 580590025528753.87500000\n",
            "Iteration 223, loss = 580012831009712.00000000\n",
            "Iteration 224, loss = 579155759371769.12500000\n",
            "Iteration 225, loss = 577365212992911.75000000\n",
            "Iteration 226, loss = 576490132001133.87500000\n",
            "Iteration 227, loss = 575524901408382.75000000\n",
            "Iteration 228, loss = 574523323495202.00000000\n",
            "Iteration 229, loss = 573271056478183.75000000\n",
            "Iteration 230, loss = 572392253484248.37500000\n",
            "Iteration 231, loss = 571569354336044.00000000\n",
            "Iteration 232, loss = 570466788765969.00000000\n",
            "Iteration 233, loss = 569211275474061.62500000\n",
            "Iteration 234, loss = 567851802867153.37500000\n",
            "Iteration 235, loss = 566944766420965.12500000\n",
            "Iteration 236, loss = 565833676544274.50000000\n",
            "Iteration 237, loss = 565290740870946.75000000\n",
            "Iteration 238, loss = 564999321568094.62500000\n",
            "Iteration 239, loss = 562425538989037.31250000\n",
            "Iteration 240, loss = 561406141388086.43750000\n",
            "Iteration 241, loss = 560078831751308.87500000\n",
            "Iteration 242, loss = 559109885232868.50000000\n",
            "Iteration 243, loss = 558226100022544.00000000\n",
            "Iteration 244, loss = 557682079230417.56250000\n",
            "Iteration 245, loss = 555938685814374.93750000\n",
            "Iteration 246, loss = 554983506312158.75000000\n",
            "Iteration 247, loss = 553815080315119.31250000\n",
            "Iteration 248, loss = 552165242367090.31250000\n",
            "Iteration 249, loss = 551646221494663.31250000\n",
            "Iteration 250, loss = 550621821906226.93750000\n",
            "Iteration 251, loss = 549145810848875.87500000\n",
            "Iteration 252, loss = 548215487606290.81250000\n",
            "Iteration 253, loss = 546856943957880.12500000\n",
            "Iteration 254, loss = 546482317057646.12500000\n",
            "Iteration 255, loss = 544755413310146.50000000\n",
            "Iteration 256, loss = 543726927014855.00000000\n",
            "Iteration 257, loss = 542516372226146.62500000\n",
            "Iteration 258, loss = 542052556641595.93750000\n",
            "Iteration 259, loss = 539886358026528.50000000\n",
            "Iteration 260, loss = 538993424638259.56250000\n",
            "Iteration 261, loss = 538788074494047.87500000\n",
            "Iteration 262, loss = 536832521664701.25000000\n",
            "Iteration 263, loss = 535882499192012.56250000\n",
            "Iteration 264, loss = 534684889343891.75000000\n",
            "Iteration 265, loss = 534046757561598.25000000\n",
            "Iteration 266, loss = 532495016335658.56250000\n",
            "Iteration 267, loss = 531635076659401.62500000\n",
            "Iteration 268, loss = 531015082909157.75000000\n",
            "Iteration 269, loss = 528968773765414.81250000\n",
            "Iteration 270, loss = 528107514912346.43750000\n",
            "Iteration 271, loss = 527051847091756.43750000\n",
            "Iteration 272, loss = 526243794150433.00000000\n",
            "Iteration 273, loss = 524789115684579.75000000\n",
            "Iteration 274, loss = 523737805074214.62500000\n",
            "Iteration 275, loss = 522809626319559.68750000\n",
            "Iteration 276, loss = 521184366037989.62500000\n",
            "Iteration 277, loss = 520741304907144.93750000\n",
            "Iteration 278, loss = 520370448088366.50000000\n",
            "Iteration 279, loss = 518470735668545.12500000\n",
            "Iteration 280, loss = 517200930331521.31250000\n",
            "Iteration 281, loss = 516123029567976.81250000\n",
            "Iteration 282, loss = 514867716645349.75000000\n",
            "Iteration 283, loss = 513828557377856.06250000\n",
            "Iteration 284, loss = 513040110338270.81250000\n",
            "Iteration 285, loss = 511265257268846.25000000\n",
            "Iteration 286, loss = 510731385444130.81250000\n",
            "Iteration 287, loss = 509301404086546.62500000\n",
            "Iteration 288, loss = 508471247782371.62500000\n",
            "Iteration 289, loss = 507680021972760.25000000\n",
            "Iteration 290, loss = 506699227926931.06250000\n",
            "Iteration 291, loss = 506114652035316.43750000\n",
            "Iteration 292, loss = 504223197157758.68750000\n",
            "Iteration 293, loss = 503051049006178.06250000\n",
            "Iteration 294, loss = 502193788377271.25000000\n",
            "Iteration 295, loss = 500981614389525.18750000\n",
            "Iteration 296, loss = 500401460930195.00000000\n",
            "Iteration 297, loss = 498848573538652.06250000\n",
            "Iteration 298, loss = 497667980683975.81250000\n",
            "Iteration 299, loss = 496737243959894.75000000\n",
            "Iteration 300, loss = 495817645143350.75000000\n",
            "Iteration 301, loss = 494714954301625.43750000\n",
            "Iteration 302, loss = 493652478221335.18750000\n",
            "Iteration 303, loss = 492431619411758.18750000\n",
            "Iteration 304, loss = 491555562455323.75000000\n",
            "Iteration 305, loss = 490970455681826.12500000\n",
            "Iteration 306, loss = 489277490589511.62500000\n",
            "Iteration 307, loss = 488648843073451.37500000\n",
            "Iteration 308, loss = 487766713267913.06250000\n",
            "Iteration 309, loss = 486028763275702.25000000\n",
            "Iteration 310, loss = 485077574110294.87500000\n",
            "Iteration 311, loss = 484420533068537.31250000\n",
            "Iteration 312, loss = 483136532092129.37500000\n",
            "Iteration 313, loss = 482286861456294.18750000\n",
            "Iteration 314, loss = 482300002652647.68750000\n",
            "Iteration 315, loss = 480042729533030.81250000\n",
            "Iteration 316, loss = 478972849093786.50000000\n",
            "Iteration 317, loss = 477954789002422.50000000\n",
            "Iteration 318, loss = 477235593703483.50000000\n",
            "Iteration 319, loss = 475926162427784.93750000\n",
            "Iteration 320, loss = 475713437859183.68750000\n",
            "Iteration 321, loss = 473865869855162.00000000\n",
            "Iteration 322, loss = 472999291550856.50000000\n",
            "Iteration 323, loss = 471811815692490.81250000\n",
            "Iteration 324, loss = 471387802657273.00000000\n",
            "Iteration 325, loss = 469531206380095.43750000\n",
            "Iteration 326, loss = 468777151915660.56250000\n",
            "Iteration 327, loss = 467760891188465.00000000\n",
            "Iteration 328, loss = 466671682556084.50000000\n",
            "Iteration 329, loss = 465154746234209.75000000\n",
            "Iteration 330, loss = 464476874541902.87500000\n",
            "Iteration 331, loss = 463289148561085.31250000\n",
            "Iteration 332, loss = 462254259587286.50000000\n",
            "Iteration 333, loss = 461191551589228.87500000\n",
            "Iteration 334, loss = 460400694909330.31250000\n",
            "Iteration 335, loss = 459863595566505.68750000\n",
            "Iteration 336, loss = 459070932212545.25000000\n",
            "Iteration 337, loss = 456663580951025.87500000\n",
            "Iteration 338, loss = 456360106552440.75000000\n",
            "Iteration 339, loss = 455390185191317.93750000\n",
            "Iteration 340, loss = 453633427891903.12500000\n",
            "Iteration 341, loss = 453193114599671.87500000\n",
            "Iteration 342, loss = 451558169774248.81250000\n",
            "Iteration 343, loss = 451087047264142.06250000\n",
            "Iteration 344, loss = 449438667826289.87500000\n",
            "Iteration 345, loss = 448655553705015.00000000\n",
            "Iteration 346, loss = 447781714994032.31250000\n",
            "Iteration 347, loss = 446537169889535.87500000\n",
            "Iteration 348, loss = 445082217428105.00000000\n",
            "Iteration 349, loss = 444314340893229.93750000\n",
            "Iteration 350, loss = 443432500294378.93750000\n",
            "Iteration 351, loss = 442267055919893.18750000\n",
            "Iteration 352, loss = 441547973160055.06250000\n",
            "Iteration 353, loss = 440638994346601.12500000\n",
            "Iteration 354, loss = 438849543758785.00000000\n",
            "Iteration 355, loss = 438064180504804.43750000\n",
            "Iteration 356, loss = 437093330600288.75000000\n",
            "Iteration 357, loss = 436427952740246.18750000\n",
            "Iteration 358, loss = 434823762727696.18750000\n",
            "Iteration 359, loss = 434767619410071.56250000\n",
            "Iteration 360, loss = 433527216070904.93750000\n",
            "Iteration 361, loss = 431832755276183.31250000\n",
            "Iteration 362, loss = 430459192408173.18750000\n",
            "Iteration 363, loss = 429760636350734.68750000\n",
            "Iteration 364, loss = 428833727503329.25000000\n",
            "Iteration 365, loss = 427390647535839.56250000\n",
            "Iteration 366, loss = 426167504869859.18750000\n",
            "Iteration 367, loss = 425549705126324.56250000\n",
            "Iteration 368, loss = 425732651599781.50000000\n",
            "Iteration 369, loss = 423681859376432.93750000\n",
            "Iteration 370, loss = 422235482694118.93750000\n",
            "Iteration 371, loss = 420927066494952.12500000\n",
            "Iteration 372, loss = 420246797047648.50000000\n",
            "Iteration 373, loss = 418954951315133.50000000\n",
            "Iteration 374, loss = 418141088819574.87500000\n",
            "Iteration 375, loss = 417833425127261.56250000\n",
            "Iteration 376, loss = 415924209135571.18750000\n",
            "Iteration 377, loss = 414848116915510.06250000\n",
            "Iteration 378, loss = 413772750242843.37500000\n",
            "Iteration 379, loss = 413390808855926.68750000\n",
            "Iteration 380, loss = 412255051975402.31250000\n",
            "Iteration 381, loss = 410310450201009.56250000\n",
            "Iteration 382, loss = 410053556420804.37500000\n",
            "Iteration 383, loss = 409143208282071.93750000\n",
            "Iteration 384, loss = 407472507894297.75000000\n",
            "Iteration 385, loss = 406230997482751.37500000\n",
            "Iteration 386, loss = 405856059431551.56250000\n",
            "Iteration 387, loss = 404471569896315.50000000\n",
            "Iteration 388, loss = 403496550156343.56250000\n",
            "Iteration 389, loss = 402429833516341.25000000\n",
            "Iteration 390, loss = 402018458532118.68750000\n",
            "Iteration 391, loss = 400385228727393.75000000\n",
            "Iteration 392, loss = 399364227518986.31250000\n",
            "Iteration 393, loss = 398361228587343.06250000\n",
            "Iteration 394, loss = 397596603510624.93750000\n",
            "Iteration 395, loss = 396190904082729.25000000\n",
            "Iteration 396, loss = 395133420974874.68750000\n",
            "Iteration 397, loss = 394644944920323.43750000\n",
            "Iteration 398, loss = 392961071623782.00000000\n",
            "Iteration 399, loss = 392126817080958.37500000\n",
            "Iteration 400, loss = 391776955301599.75000000\n",
            "Iteration 401, loss = 390187887821057.68750000\n",
            "Iteration 402, loss = 389464895074023.25000000\n",
            "Iteration 403, loss = 388753953607454.62500000\n",
            "Iteration 404, loss = 386969308282040.06250000\n",
            "Iteration 405, loss = 386158841816006.06250000\n",
            "Iteration 406, loss = 385130565155241.93750000\n",
            "Iteration 407, loss = 383876588938530.25000000\n",
            "Iteration 408, loss = 382970352664696.81250000\n",
            "Iteration 409, loss = 381955841825858.31250000\n",
            "Iteration 410, loss = 380811888856816.87500000\n",
            "Iteration 411, loss = 380730721927509.12500000\n",
            "Iteration 412, loss = 379257774731995.75000000\n",
            "Iteration 413, loss = 378640974152114.62500000\n",
            "Iteration 414, loss = 376929965885742.18750000\n",
            "Iteration 415, loss = 376772475983937.31250000\n",
            "Iteration 416, loss = 375279552009060.87500000\n",
            "Iteration 417, loss = 374279768145917.87500000\n",
            "Iteration 418, loss = 373640613372661.37500000\n",
            "Iteration 419, loss = 372420304917778.43750000\n",
            "Iteration 420, loss = 371250929665761.87500000\n",
            "Iteration 421, loss = 369764755033179.75000000\n",
            "Iteration 422, loss = 369611416412865.31250000\n",
            "Iteration 423, loss = 370809267056670.12500000\n",
            "Iteration 424, loss = 368291981416113.43750000\n",
            "Iteration 425, loss = 366375746428438.75000000\n",
            "Iteration 426, loss = 365362932417680.25000000\n",
            "Iteration 427, loss = 364897973183261.06250000\n",
            "Iteration 428, loss = 364187215619404.12500000\n",
            "Iteration 429, loss = 361958129043407.75000000\n",
            "Iteration 430, loss = 361730273554757.12500000\n",
            "Iteration 431, loss = 360987945332609.06250000\n",
            "Iteration 432, loss = 359850159811522.12500000\n",
            "Iteration 433, loss = 358745614515661.18750000\n",
            "Iteration 434, loss = 357955163973973.31250000\n",
            "Iteration 435, loss = 357258379488777.62500000\n",
            "Iteration 436, loss = 355820292750729.18750000\n",
            "Iteration 437, loss = 355319589683696.68750000\n",
            "Iteration 438, loss = 353940639924907.31250000\n",
            "Iteration 439, loss = 353345445978584.25000000\n",
            "Iteration 440, loss = 352884579546019.00000000\n",
            "Iteration 441, loss = 351531703184202.62500000\n",
            "Iteration 442, loss = 351275986767459.50000000\n",
            "Iteration 443, loss = 349322317167400.81250000\n",
            "Iteration 444, loss = 348603124132258.43750000\n",
            "Iteration 445, loss = 347873397296259.75000000\n",
            "Iteration 446, loss = 347335596678978.62500000\n",
            "Iteration 447, loss = 346192032909518.31250000\n",
            "Iteration 448, loss = 344824326388111.56250000\n",
            "Iteration 449, loss = 344163447188224.81250000\n",
            "Iteration 450, loss = 344750747063484.87500000\n",
            "Iteration 451, loss = 342102280099614.31250000\n",
            "Iteration 452, loss = 342255511679862.68750000\n",
            "Iteration 453, loss = 341049227747853.50000000\n",
            "Iteration 454, loss = 340082408776563.93750000\n",
            "Iteration 455, loss = 339048775416995.37500000\n",
            "Iteration 456, loss = 338103748212991.68750000\n",
            "Iteration 457, loss = 336529109777847.43750000\n",
            "Iteration 458, loss = 336341977363598.12500000\n",
            "Iteration 459, loss = 335567385079380.87500000\n",
            "Iteration 460, loss = 335580803480196.00000000\n",
            "Iteration 461, loss = 333500012903520.87500000\n",
            "Iteration 462, loss = 332424938945870.25000000\n",
            "Iteration 463, loss = 331480571013338.81250000\n",
            "Iteration 464, loss = 330615197307838.81250000\n",
            "Iteration 465, loss = 329825324075336.37500000\n",
            "Iteration 466, loss = 329409509569831.25000000\n",
            "Iteration 467, loss = 327813436553503.00000000\n",
            "Iteration 468, loss = 327540042907612.56250000\n",
            "Iteration 469, loss = 326341643019672.25000000\n",
            "Iteration 470, loss = 325378402176093.31250000\n",
            "Iteration 471, loss = 325560381106271.31250000\n",
            "Iteration 472, loss = 323937541405305.87500000\n",
            "Iteration 473, loss = 323345571544457.81250000\n",
            "Iteration 474, loss = 322879784607280.62500000\n",
            "Iteration 475, loss = 321108373327914.18750000\n",
            "Iteration 476, loss = 321057035382279.62500000\n",
            "Iteration 477, loss = 319828429290779.37500000\n",
            "Iteration 478, loss = 318690702488133.56250000\n",
            "Iteration 479, loss = 317528378101786.56250000\n",
            "Iteration 480, loss = 316771454776428.68750000\n",
            "Iteration 481, loss = 316121211791244.50000000\n",
            "Iteration 482, loss = 315208548382405.18750000\n",
            "Iteration 483, loss = 314243430993918.25000000\n",
            "Iteration 484, loss = 313765951688224.50000000\n",
            "Iteration 485, loss = 312438107315627.18750000\n",
            "Iteration 486, loss = 311693198405937.93750000\n",
            "Iteration 487, loss = 311338792394508.62500000\n",
            "Iteration 488, loss = 311049990796332.87500000\n",
            "Iteration 489, loss = 308998015182999.37500000\n",
            "Iteration 490, loss = 308943800395966.25000000\n",
            "Iteration 491, loss = 307495517635358.87500000\n",
            "Iteration 492, loss = 306709076768962.50000000\n",
            "Iteration 493, loss = 305938082584279.68750000\n",
            "Iteration 494, loss = 304992815587498.81250000\n",
            "Iteration 495, loss = 304243506755881.06250000\n",
            "Iteration 496, loss = 303158089708264.43750000\n",
            "Iteration 497, loss = 302548939176821.25000000\n",
            "Iteration 498, loss = 301623470282131.81250000\n",
            "Iteration 499, loss = 300812485144124.00000000\n",
            "Iteration 500, loss = 300914277966484.81250000\n",
            "Iteration 501, loss = 299240968999441.81250000\n",
            "Iteration 502, loss = 298396637531584.43750000\n",
            "Iteration 503, loss = 298520039643296.68750000\n",
            "Iteration 504, loss = 296906600849014.00000000\n",
            "Iteration 505, loss = 296120861409400.37500000\n",
            "Iteration 506, loss = 295005739021576.43750000\n",
            "Iteration 507, loss = 294482040371867.50000000\n",
            "Iteration 508, loss = 293908249060165.43750000\n",
            "Iteration 509, loss = 292648480504005.25000000\n",
            "Iteration 510, loss = 291724022629755.81250000\n",
            "Iteration 511, loss = 291203165280526.87500000\n",
            "Iteration 512, loss = 290500863250181.93750000\n",
            "Iteration 513, loss = 289593116606715.62500000\n",
            "Iteration 514, loss = 288708948288428.12500000\n",
            "Iteration 515, loss = 288432555074113.81250000\n",
            "Iteration 516, loss = 288949698208993.37500000\n",
            "Iteration 517, loss = 287124035034715.06250000\n",
            "Iteration 518, loss = 286737020294967.87500000\n",
            "Iteration 519, loss = 284996562871018.12500000\n",
            "Iteration 520, loss = 284238031046030.62500000\n",
            "Iteration 521, loss = 283714415897923.81250000\n",
            "Iteration 522, loss = 283108770660729.62500000\n",
            "Iteration 523, loss = 282583906533139.68750000\n",
            "Iteration 524, loss = 281667957225000.37500000\n",
            "Iteration 525, loss = 281014186479474.50000000\n",
            "Iteration 526, loss = 280049785802249.93750000\n",
            "Iteration 527, loss = 279636229784320.34375000\n",
            "Iteration 528, loss = 278420193309459.75000000\n",
            "Iteration 529, loss = 277845948673944.50000000\n",
            "Iteration 530, loss = 277325895131274.37500000\n",
            "Iteration 531, loss = 276505232765479.87500000\n",
            "Iteration 532, loss = 276077245958990.12500000\n",
            "Iteration 533, loss = 274811455034671.09375000\n",
            "Iteration 534, loss = 274200990557262.87500000\n",
            "Iteration 535, loss = 273296821108856.37500000\n",
            "Iteration 536, loss = 272732640943514.50000000\n",
            "Iteration 537, loss = 272776629892254.56250000\n",
            "Iteration 538, loss = 271442839892341.03125000\n",
            "Iteration 539, loss = 270974989630851.37500000\n",
            "Iteration 540, loss = 270912009260183.68750000\n",
            "Iteration 541, loss = 270981065954605.00000000\n",
            "Iteration 542, loss = 268637043195847.96875000\n",
            "Iteration 543, loss = 268144804732689.12500000\n",
            "Iteration 544, loss = 267791474611455.09375000\n",
            "Iteration 545, loss = 266809135276562.62500000\n",
            "Iteration 546, loss = 266087850680625.56250000\n",
            "Iteration 547, loss = 265599484333203.93750000\n",
            "Iteration 548, loss = 264600761225177.37500000\n",
            "Iteration 549, loss = 263910739084185.31250000\n",
            "Iteration 550, loss = 263493326037251.18750000\n",
            "Iteration 551, loss = 262888334433310.56250000\n",
            "Iteration 552, loss = 262209770851958.00000000\n",
            "Iteration 553, loss = 262343591476130.81250000\n",
            "Iteration 554, loss = 261103940546709.71875000\n",
            "Iteration 555, loss = 261703742270438.75000000\n",
            "Iteration 556, loss = 259999743537308.78125000\n",
            "Iteration 557, loss = 259142710860083.93750000\n",
            "Iteration 558, loss = 258613492053166.06250000\n",
            "Iteration 559, loss = 258587432561402.28125000\n",
            "Iteration 560, loss = 257640737368705.21875000\n",
            "Iteration 561, loss = 257140273111587.59375000\n",
            "Iteration 562, loss = 256527304894976.75000000\n",
            "Iteration 563, loss = 256769818001276.50000000\n",
            "Iteration 564, loss = 254910424698639.46875000\n",
            "Iteration 565, loss = 254718497880715.43750000\n",
            "Iteration 566, loss = 254265632739955.50000000\n",
            "Iteration 567, loss = 254041094315554.46875000\n",
            "Iteration 568, loss = 252874266547130.28125000\n",
            "Iteration 569, loss = 252403837495281.43750000\n",
            "Iteration 570, loss = 251462888405594.87500000\n",
            "Iteration 571, loss = 251104926328965.09375000\n",
            "Iteration 572, loss = 251738077887332.53125000\n",
            "Iteration 573, loss = 250512000918531.93750000\n",
            "Iteration 574, loss = 249539593335606.65625000\n",
            "Iteration 575, loss = 248937192964715.75000000\n",
            "Iteration 576, loss = 248335469017157.50000000\n",
            "Iteration 577, loss = 248848256668082.34375000\n",
            "Iteration 578, loss = 247779179610989.59375000\n",
            "Iteration 579, loss = 247245315846382.31250000\n",
            "Iteration 580, loss = 247273194717314.09375000\n",
            "Iteration 581, loss = 246102358447767.15625000\n",
            "Iteration 582, loss = 245558653665352.75000000\n",
            "Iteration 583, loss = 244871955699220.21875000\n",
            "Iteration 584, loss = 244692332510860.34375000\n",
            "Iteration 585, loss = 244004726665348.28125000\n",
            "Iteration 586, loss = 243351885999089.59375000\n",
            "Iteration 587, loss = 243803906442616.06250000\n",
            "Iteration 588, loss = 242384540725232.37500000\n",
            "Iteration 589, loss = 242456841698061.81250000\n",
            "Iteration 590, loss = 241420502932251.75000000\n",
            "Iteration 591, loss = 241644175821742.37500000\n",
            "Iteration 592, loss = 239976065422883.40625000\n",
            "Iteration 593, loss = 240132478764967.90625000\n",
            "Iteration 594, loss = 239458716561297.15625000\n",
            "Iteration 595, loss = 239288773342221.84375000\n",
            "Iteration 596, loss = 238599439103560.18750000\n",
            "Iteration 597, loss = 238004686388759.75000000\n",
            "Iteration 598, loss = 238525999697404.28125000\n",
            "Iteration 599, loss = 237952913708740.81250000\n",
            "Iteration 600, loss = 236774984017988.40625000\n",
            "Iteration 601, loss = 236219206506384.25000000\n",
            "Iteration 602, loss = 235640778775123.18750000\n",
            "Iteration 603, loss = 236143558583740.09375000\n",
            "Iteration 604, loss = 234482224654853.59375000\n",
            "Iteration 605, loss = 234719036876550.46875000\n",
            "Iteration 606, loss = 234333011797848.25000000\n",
            "Iteration 607, loss = 233492240762218.65625000\n",
            "Iteration 608, loss = 233512993152326.25000000\n",
            "Iteration 609, loss = 232594113541994.68750000\n",
            "Iteration 610, loss = 232201803209844.71875000\n",
            "Iteration 611, loss = 231784446375625.18750000\n",
            "Iteration 612, loss = 231837755644897.90625000\n",
            "Iteration 613, loss = 234366188962313.31250000\n",
            "Iteration 614, loss = 230076117586410.43750000\n",
            "Iteration 615, loss = 230615607995451.50000000\n",
            "Iteration 616, loss = 231907431904252.25000000\n",
            "Iteration 617, loss = 229822634131106.43750000\n",
            "Iteration 618, loss = 228981069877648.00000000\n",
            "Iteration 619, loss = 228959918765936.12500000\n",
            "Iteration 620, loss = 228457313229548.84375000\n",
            "Iteration 621, loss = 227733083389171.34375000\n",
            "Iteration 622, loss = 227418652770601.15625000\n",
            "Iteration 623, loss = 226944221200302.31250000\n",
            "Iteration 624, loss = 226787710585978.09375000\n",
            "Iteration 625, loss = 226194004995493.59375000\n",
            "Iteration 626, loss = 225684580969758.62500000\n",
            "Iteration 627, loss = 225473849582871.15625000\n",
            "Iteration 628, loss = 225024886712989.28125000\n",
            "Iteration 629, loss = 225301463488027.87500000\n",
            "Iteration 630, loss = 224261977422644.68750000\n",
            "Iteration 631, loss = 223503417222339.06250000\n",
            "Iteration 632, loss = 223750070202414.87500000\n",
            "Iteration 633, loss = 223768972882436.50000000\n",
            "Iteration 634, loss = 223672791378109.68750000\n",
            "Iteration 635, loss = 222902381318173.06250000\n",
            "Iteration 636, loss = 222233003352664.31250000\n",
            "Iteration 637, loss = 222166539506500.75000000\n",
            "Iteration 638, loss = 221750828149168.21875000\n",
            "Iteration 639, loss = 220851378883641.31250000\n",
            "Iteration 640, loss = 220828098916681.00000000\n",
            "Iteration 641, loss = 220093962641134.34375000\n",
            "Iteration 642, loss = 220559804050018.62500000\n",
            "Iteration 643, loss = 219903910723235.28125000\n",
            "Iteration 644, loss = 219959116895143.46875000\n",
            "Iteration 645, loss = 219220426853743.84375000\n",
            "Iteration 646, loss = 218735387674721.46875000\n",
            "Iteration 647, loss = 218364226368976.65625000\n",
            "Iteration 648, loss = 217890026541467.37500000\n",
            "Iteration 649, loss = 218023778542607.84375000\n",
            "Iteration 650, loss = 217921000170475.87500000\n",
            "Iteration 651, loss = 216417188508067.00000000\n",
            "Iteration 652, loss = 216575299286786.25000000\n",
            "Iteration 653, loss = 216339253025169.15625000\n",
            "Iteration 654, loss = 216085046420963.43750000\n",
            "Iteration 655, loss = 215865577062665.12500000\n",
            "Iteration 656, loss = 215489173688603.46875000\n",
            "Iteration 657, loss = 214880838552717.46875000\n",
            "Iteration 658, loss = 214968119486677.46875000\n",
            "Iteration 659, loss = 214292591875064.96875000\n",
            "Iteration 660, loss = 214571919935698.59375000\n",
            "Iteration 661, loss = 213694535311350.43750000\n",
            "Iteration 662, loss = 213587347229207.50000000\n",
            "Iteration 663, loss = 213199831175391.93750000\n",
            "Iteration 664, loss = 212892170279181.28125000\n",
            "Iteration 665, loss = 212773587042856.00000000\n",
            "Iteration 666, loss = 212159287642318.75000000\n",
            "Iteration 667, loss = 212013047652705.62500000\n",
            "Iteration 668, loss = 211426357484270.28125000\n",
            "Iteration 669, loss = 211625605227132.25000000\n",
            "Iteration 670, loss = 210997856377575.90625000\n",
            "Iteration 671, loss = 210716097924472.53125000\n",
            "Iteration 672, loss = 210273084740075.00000000\n",
            "Iteration 673, loss = 209892862654860.25000000\n",
            "Iteration 674, loss = 209763446681951.21875000\n",
            "Iteration 675, loss = 209441261069586.50000000\n",
            "Iteration 676, loss = 209515901250422.09375000\n",
            "Iteration 677, loss = 208953730187167.75000000\n",
            "Iteration 678, loss = 209296858928658.96875000\n",
            "Iteration 679, loss = 208501883033578.37500000\n",
            "Iteration 680, loss = 208567055540402.12500000\n",
            "Iteration 681, loss = 208240873553646.84375000\n",
            "Iteration 682, loss = 208150278214816.43750000\n",
            "Iteration 683, loss = 207233352857732.81250000\n",
            "Iteration 684, loss = 207106788058769.56250000\n",
            "Iteration 685, loss = 207863621910624.18750000\n",
            "Iteration 686, loss = 206516276779278.37500000\n",
            "Iteration 687, loss = 206234619508890.15625000\n",
            "Iteration 688, loss = 206788520556839.59375000\n",
            "Iteration 689, loss = 206938776812179.18750000\n",
            "Iteration 690, loss = 204868268581919.75000000\n",
            "Iteration 691, loss = 206041580572334.21875000\n",
            "Iteration 692, loss = 205715783506485.37500000\n",
            "Iteration 693, loss = 204365881658588.53125000\n",
            "Iteration 694, loss = 204115012708742.71875000\n",
            "Iteration 695, loss = 204122852745367.65625000\n",
            "Iteration 696, loss = 204709828413716.15625000\n",
            "Iteration 697, loss = 203213325117165.37500000\n",
            "Iteration 698, loss = 203310090131949.18750000\n",
            "Iteration 699, loss = 203164475026332.18750000\n",
            "Iteration 700, loss = 203473761661365.46875000\n",
            "Iteration 701, loss = 202021620932108.25000000\n",
            "Iteration 702, loss = 202528832438909.59375000\n",
            "Iteration 703, loss = 202888709738306.18750000\n",
            "Iteration 704, loss = 202939998763734.68750000\n",
            "Iteration 705, loss = 202597186125465.28125000\n",
            "Iteration 706, loss = 201613808954668.62500000\n",
            "Iteration 707, loss = 201111970145900.53125000\n",
            "Iteration 708, loss = 201105217423586.75000000\n",
            "Iteration 709, loss = 200486635562701.28125000\n",
            "Iteration 710, loss = 200324616606032.75000000\n",
            "Iteration 711, loss = 199969552426264.71875000\n",
            "Iteration 712, loss = 200577676440554.87500000\n",
            "Iteration 713, loss = 201056883836567.34375000\n",
            "Iteration 714, loss = 199806470372766.53125000\n",
            "Iteration 715, loss = 199343986428994.12500000\n",
            "Iteration 716, loss = 199901676759707.12500000\n",
            "Iteration 717, loss = 199382367648143.68750000\n",
            "Iteration 718, loss = 198755288110416.78125000\n",
            "Iteration 719, loss = 198433828077236.34375000\n",
            "Iteration 720, loss = 198201594705721.81250000\n",
            "Iteration 721, loss = 198678054614147.18750000\n",
            "Iteration 722, loss = 198193847814605.37500000\n",
            "Iteration 723, loss = 197386341998601.40625000\n",
            "Iteration 724, loss = 197529743771381.75000000\n",
            "Iteration 725, loss = 197125904484784.00000000\n",
            "Iteration 726, loss = 197494755716812.71875000\n",
            "Iteration 727, loss = 197175070857953.93750000\n",
            "Iteration 728, loss = 196789348615144.09375000\n",
            "Iteration 729, loss = 196263891309012.65625000\n",
            "Iteration 730, loss = 196579286641170.93750000\n",
            "Iteration 731, loss = 196162813685358.59375000\n",
            "Iteration 732, loss = 195600645488161.90625000\n",
            "Iteration 733, loss = 195816098024603.75000000\n",
            "Iteration 734, loss = 195039982566184.68750000\n",
            "Iteration 735, loss = 195019690009883.53125000\n",
            "Iteration 736, loss = 194889952892458.71875000\n",
            "Iteration 737, loss = 195030842020111.25000000\n",
            "Iteration 738, loss = 194581669601787.62500000\n",
            "Iteration 739, loss = 194815296909563.21875000\n",
            "Iteration 740, loss = 195724466398672.46875000\n",
            "Iteration 741, loss = 194213413667084.71875000\n",
            "Iteration 742, loss = 193726936146617.78125000\n",
            "Iteration 743, loss = 193675404581344.46875000\n",
            "Iteration 744, loss = 193395544847093.25000000\n",
            "Iteration 745, loss = 193117414988665.40625000\n",
            "Iteration 746, loss = 193069420141765.90625000\n",
            "Iteration 747, loss = 193036018053091.28125000\n",
            "Iteration 748, loss = 193003409009737.15625000\n",
            "Iteration 749, loss = 193175416852938.37500000\n",
            "Iteration 750, loss = 192655864401042.84375000\n",
            "Iteration 751, loss = 192149394234337.31250000\n",
            "Iteration 752, loss = 192074425798586.34375000\n",
            "Iteration 753, loss = 192119231504657.00000000\n",
            "Iteration 754, loss = 192004077659691.40625000\n",
            "Iteration 755, loss = 191393941627916.37500000\n",
            "Iteration 756, loss = 191857431068949.71875000\n",
            "Iteration 757, loss = 191469587251368.46875000\n",
            "Iteration 758, loss = 191325991999794.81250000\n",
            "Iteration 759, loss = 190850118194919.87500000\n",
            "Iteration 760, loss = 190677909362427.75000000\n",
            "Iteration 761, loss = 190754565132306.62500000\n",
            "Iteration 762, loss = 190899104624752.96875000\n",
            "Iteration 763, loss = 190451250095639.81250000\n",
            "Iteration 764, loss = 190739646971331.21875000\n",
            "Iteration 765, loss = 190736060584404.28125000\n",
            "Iteration 766, loss = 189866649731411.68750000\n",
            "Iteration 767, loss = 190056335552308.25000000\n",
            "Iteration 768, loss = 189514795388113.68750000\n",
            "Iteration 769, loss = 189577729110876.28125000\n",
            "Iteration 770, loss = 189007931901466.43750000\n",
            "Iteration 771, loss = 189167434403585.78125000\n",
            "Iteration 772, loss = 188824717621265.46875000\n",
            "Iteration 773, loss = 188673829649271.84375000\n",
            "Iteration 774, loss = 189133197677679.62500000\n",
            "Iteration 775, loss = 189312242068978.31250000\n",
            "Iteration 776, loss = 188701541686644.31250000\n",
            "Iteration 777, loss = 188179768705197.65625000\n",
            "Iteration 778, loss = 188344209218812.50000000\n",
            "Iteration 779, loss = 188092014108405.46875000\n",
            "Iteration 780, loss = 187652749519723.40625000\n",
            "Iteration 781, loss = 187931504469617.96875000\n",
            "Iteration 782, loss = 187693204930200.31250000\n",
            "Iteration 783, loss = 187639527315298.96875000\n",
            "Iteration 784, loss = 187521852732367.87500000\n",
            "Iteration 785, loss = 187489413128927.09375000\n",
            "Iteration 786, loss = 187146331817834.56250000\n",
            "Iteration 787, loss = 187681386891156.31250000\n",
            "Iteration 788, loss = 187610777905344.78125000\n",
            "Iteration 789, loss = 187174963486425.68750000\n",
            "Iteration 790, loss = 187096329491358.21875000\n",
            "Iteration 791, loss = 186735762456091.50000000\n",
            "Iteration 792, loss = 186336217547304.28125000\n",
            "Iteration 793, loss = 186078622811124.87500000\n",
            "Iteration 794, loss = 185879712899919.59375000\n",
            "Iteration 795, loss = 186041516686670.56250000\n",
            "Iteration 796, loss = 185782051452588.90625000\n",
            "Iteration 797, loss = 185957778764892.68750000\n",
            "Iteration 798, loss = 185302259838486.40625000\n",
            "Iteration 799, loss = 185159532938541.93750000\n",
            "Iteration 800, loss = 185329558050657.37500000\n",
            "Iteration 801, loss = 185069314115085.71875000\n",
            "Iteration 802, loss = 185008653426697.31250000\n",
            "Iteration 803, loss = 186130666704029.56250000\n",
            "Iteration 804, loss = 185243783976626.84375000\n",
            "Iteration 805, loss = 185059389089744.90625000\n",
            "Iteration 806, loss = 185114284069363.78125000\n",
            "Iteration 807, loss = 185020894021605.75000000\n",
            "Iteration 808, loss = 183839263966422.37500000\n",
            "Iteration 809, loss = 183924971000535.34375000\n",
            "Iteration 810, loss = 183685920983430.00000000\n",
            "Iteration 811, loss = 183824630164806.09375000\n",
            "Iteration 812, loss = 183918764657969.93750000\n",
            "Iteration 813, loss = 183470460761832.37500000\n",
            "Iteration 814, loss = 183764012209995.68750000\n",
            "Iteration 815, loss = 183977727903871.90625000\n",
            "Iteration 816, loss = 183545414763374.43750000\n",
            "Iteration 817, loss = 183400564694372.84375000\n",
            "Iteration 818, loss = 182911846447616.00000000\n",
            "Iteration 819, loss = 183499257625877.75000000\n",
            "Iteration 820, loss = 182844953789969.75000000\n",
            "Iteration 821, loss = 182736025943290.25000000\n",
            "Iteration 822, loss = 182739420951572.71875000\n",
            "Iteration 823, loss = 182309557709638.18750000\n",
            "Iteration 824, loss = 182178665371737.18750000\n",
            "Iteration 825, loss = 183122502373538.12500000\n",
            "Iteration 826, loss = 182296132245057.65625000\n",
            "Iteration 827, loss = 182114133618552.34375000\n",
            "Iteration 828, loss = 182031860498692.21875000\n",
            "Iteration 829, loss = 181991920381688.56250000\n",
            "Iteration 830, loss = 182435371473185.96875000\n",
            "Iteration 831, loss = 182148164839799.78125000\n",
            "Iteration 832, loss = 181475553422928.68750000\n",
            "Iteration 833, loss = 181688781568055.46875000\n",
            "Iteration 834, loss = 181300120959579.15625000\n",
            "Iteration 835, loss = 181098182686640.50000000\n",
            "Iteration 836, loss = 180985562235582.15625000\n",
            "Iteration 837, loss = 181011827867964.40625000\n",
            "Iteration 838, loss = 181107455754318.84375000\n",
            "Iteration 839, loss = 181788013620437.90625000\n",
            "Iteration 840, loss = 180574799717359.68750000\n",
            "Iteration 841, loss = 180721862487160.00000000\n",
            "Iteration 842, loss = 181774428014695.93750000\n",
            "Iteration 843, loss = 180283886453186.68750000\n",
            "Iteration 844, loss = 180444279052766.87500000\n",
            "Iteration 845, loss = 180834408270891.68750000\n",
            "Iteration 846, loss = 180142318768595.84375000\n",
            "Iteration 847, loss = 180389759419794.59375000\n",
            "Iteration 848, loss = 179990991550816.15625000\n",
            "Iteration 849, loss = 180488119328780.96875000\n",
            "Iteration 850, loss = 180009921602591.12500000\n",
            "Iteration 851, loss = 179950912234307.25000000\n",
            "Iteration 852, loss = 180725991169137.18750000\n",
            "Iteration 853, loss = 179420486379933.65625000\n",
            "Iteration 854, loss = 179640697878795.28125000\n",
            "Iteration 855, loss = 179618475654913.87500000\n",
            "Iteration 856, loss = 179134893505594.53125000\n",
            "Iteration 857, loss = 179354507070461.65625000\n",
            "Iteration 858, loss = 178688337773479.65625000\n",
            "Iteration 859, loss = 178960217489867.78125000\n",
            "Iteration 860, loss = 178661498179319.31250000\n",
            "Iteration 861, loss = 178691155888784.06250000\n",
            "Iteration 862, loss = 178465912891882.12500000\n",
            "Iteration 863, loss = 178893164906947.65625000\n",
            "Iteration 864, loss = 179101464554661.62500000\n",
            "Iteration 865, loss = 178294315289255.93750000\n",
            "Iteration 866, loss = 179540255701007.12500000\n",
            "Iteration 867, loss = 179252574165048.15625000\n",
            "Iteration 868, loss = 177777876039050.53125000\n",
            "Iteration 869, loss = 178506025947587.46875000\n",
            "Iteration 870, loss = 178536073798355.90625000\n",
            "Iteration 871, loss = 178133672341794.28125000\n",
            "Iteration 872, loss = 178660875198946.15625000\n",
            "Iteration 873, loss = 178105866527669.62500000\n",
            "Iteration 874, loss = 177422719997795.81250000\n",
            "Iteration 875, loss = 177742654624570.06250000\n",
            "Iteration 876, loss = 177606557795307.34375000\n",
            "Iteration 877, loss = 177413540557402.46875000\n",
            "Iteration 878, loss = 177786850278660.81250000\n",
            "Iteration 879, loss = 177143185386116.12500000\n",
            "Iteration 880, loss = 177181110596466.21875000\n",
            "Iteration 881, loss = 177155479947770.31250000\n",
            "Iteration 882, loss = 176999100106343.81250000\n",
            "Iteration 883, loss = 176649059624976.68750000\n",
            "Iteration 884, loss = 177473399774378.68750000\n",
            "Iteration 885, loss = 177166209908134.93750000\n",
            "Iteration 886, loss = 176590351279728.84375000\n",
            "Iteration 887, loss = 176596615269206.25000000\n",
            "Iteration 888, loss = 177475217396682.84375000\n",
            "Iteration 889, loss = 177473368685063.81250000\n",
            "Iteration 890, loss = 176347523313539.18750000\n",
            "Iteration 891, loss = 176110185610170.43750000\n",
            "Iteration 892, loss = 176261104646383.34375000\n",
            "Iteration 893, loss = 176558573768955.43750000\n",
            "Iteration 894, loss = 175922872749115.40625000\n",
            "Iteration 895, loss = 175877558018129.71875000\n",
            "Iteration 896, loss = 175893034422666.25000000\n",
            "Iteration 897, loss = 176355279345209.03125000\n",
            "Iteration 898, loss = 176225444967944.68750000\n",
            "Iteration 899, loss = 175566123149500.46875000\n",
            "Iteration 900, loss = 177081762915974.96875000\n",
            "Iteration 901, loss = 175669291847057.84375000\n",
            "Iteration 902, loss = 175395640706206.75000000\n",
            "Iteration 903, loss = 175294511995308.12500000\n",
            "Iteration 904, loss = 175473088087218.25000000\n",
            "Iteration 905, loss = 175148588422977.71875000\n",
            "Iteration 906, loss = 176112760456431.37500000\n",
            "Iteration 907, loss = 175318749701309.18750000\n",
            "Iteration 908, loss = 175105719182950.46875000\n",
            "Iteration 909, loss = 174941569592391.75000000\n",
            "Iteration 910, loss = 174694526944010.53125000\n",
            "Iteration 911, loss = 175065635952355.15625000\n",
            "Iteration 912, loss = 174584362772442.15625000\n",
            "Iteration 913, loss = 174967562403012.50000000\n",
            "Iteration 914, loss = 174768732727874.87500000\n",
            "Iteration 915, loss = 174489414068150.93750000\n",
            "Iteration 916, loss = 174544492439704.50000000\n",
            "Iteration 917, loss = 174403825865705.06250000\n",
            "Iteration 918, loss = 174005883031199.62500000\n",
            "Iteration 919, loss = 175172951248210.68750000\n",
            "Iteration 920, loss = 174340031913089.37500000\n",
            "Iteration 921, loss = 174432706254397.90625000\n",
            "Iteration 922, loss = 174029401749110.50000000\n",
            "Iteration 923, loss = 173973298098892.15625000\n",
            "Iteration 924, loss = 173927506374525.93750000\n",
            "Iteration 925, loss = 174032483617904.28125000\n",
            "Iteration 926, loss = 173779537759670.50000000\n",
            "Iteration 927, loss = 174065706612758.68750000\n",
            "Iteration 928, loss = 174264151630767.53125000\n",
            "Iteration 929, loss = 173610803716647.87500000\n",
            "Iteration 930, loss = 173594337984097.75000000\n",
            "Iteration 931, loss = 174054563180928.62500000\n",
            "Iteration 932, loss = 174007532889241.56250000\n",
            "Iteration 933, loss = 173685730829109.43750000\n",
            "Iteration 934, loss = 173138115187288.59375000\n",
            "Iteration 935, loss = 173321910199951.68750000\n",
            "Iteration 936, loss = 173175780129961.81250000\n",
            "Iteration 937, loss = 173178643648975.90625000\n",
            "Iteration 938, loss = 174626604954006.59375000\n",
            "Iteration 939, loss = 173365235358150.37500000\n",
            "Iteration 940, loss = 172953290179950.28125000\n",
            "Iteration 941, loss = 173199747737060.00000000\n",
            "Iteration 942, loss = 172982061563987.65625000\n",
            "Iteration 943, loss = 173157514420244.90625000\n",
            "Iteration 944, loss = 172634300850443.12500000\n",
            "Iteration 945, loss = 172803850322992.68750000\n",
            "Iteration 946, loss = 172618791321743.90625000\n",
            "Iteration 947, loss = 172883231591389.68750000\n",
            "Iteration 948, loss = 172463640610218.53125000\n",
            "Iteration 949, loss = 172528889859727.28125000\n",
            "Iteration 950, loss = 172948564869923.12500000\n",
            "Iteration 951, loss = 173029660975550.93750000\n",
            "Iteration 952, loss = 172915505904769.78125000\n",
            "Iteration 953, loss = 173211114130431.78125000\n",
            "Iteration 954, loss = 176214638640392.43750000\n",
            "Iteration 955, loss = 177510525260091.84375000\n",
            "Iteration 956, loss = 174176737297044.81250000\n",
            "Iteration 957, loss = 174264089272318.93750000\n",
            "Iteration 958, loss = 172415390231253.93750000\n",
            "Iteration 959, loss = 172310621096007.37500000\n",
            "Iteration 960, loss = 172148167963826.93750000\n",
            "Iteration 961, loss = 171935618742273.12500000\n",
            "Iteration 962, loss = 173213039980047.84375000\n",
            "Iteration 963, loss = 171933654878075.71875000\n",
            "Iteration 964, loss = 171773531186054.18750000\n",
            "Iteration 965, loss = 172343512335630.75000000\n",
            "Iteration 966, loss = 172014695513816.34375000\n",
            "Iteration 967, loss = 171833551242231.71875000\n",
            "Iteration 968, loss = 171292053572614.71875000\n",
            "Iteration 969, loss = 171643808778845.28125000\n",
            "Iteration 970, loss = 171472226582921.84375000\n",
            "Iteration 971, loss = 171431208053391.56250000\n",
            "Iteration 972, loss = 171487062059793.06250000\n",
            "Iteration 973, loss = 171908543463854.15625000\n",
            "Iteration 974, loss = 171052203622282.21875000\n",
            "Iteration 975, loss = 171219095355253.15625000\n",
            "Iteration 976, loss = 171692468456922.87500000\n",
            "Iteration 977, loss = 171292489541459.09375000\n",
            "Iteration 978, loss = 171211176835399.18750000\n",
            "Iteration 979, loss = 171419629397684.34375000\n",
            "Iteration 980, loss = 170895175091316.03125000\n",
            "Iteration 981, loss = 172242783629832.81250000\n",
            "Iteration 982, loss = 171409630293642.09375000\n",
            "Iteration 983, loss = 170578342420069.43750000\n",
            "Iteration 984, loss = 170898946810784.50000000\n",
            "Iteration 985, loss = 170482841905396.65625000\n",
            "Iteration 986, loss = 170964884167009.25000000\n",
            "Iteration 987, loss = 170370427946683.59375000\n",
            "Iteration 988, loss = 170322285886921.34375000\n",
            "Iteration 989, loss = 170826429581877.56250000\n",
            "Iteration 990, loss = 170820579099163.56250000\n",
            "Iteration 991, loss = 170396784345382.93750000\n",
            "Iteration 992, loss = 170286276804300.50000000\n",
            "Iteration 993, loss = 170636438260859.28125000\n",
            "Iteration 994, loss = 170259126386246.87500000\n",
            "Iteration 995, loss = 170098997010569.31250000\n",
            "Iteration 996, loss = 170351739056008.93750000\n",
            "Iteration 997, loss = 170138200819045.50000000\n",
            "Iteration 998, loss = 170400249754473.50000000\n",
            "Iteration 999, loss = 169792220524461.46875000\n",
            "Iteration 1000, loss = 170314180864345.31250000\n"
          ]
        },
        {
          "name": "stderr",
          "output_type": "stream",
          "text": [
            "/home/tafheem/.local/lib/python3.10/site-packages/sklearn/neural_network/_multilayer_perceptron.py:702: ConvergenceWarning: Stochastic Optimizer: Maximum iterations (1000) reached and the optimization hasn't converged yet.\n",
            "  warnings.warn(\n"
          ]
        },
        {
          "data": {
            "text/plain": [
              "0.921362265929324"
            ]
          },
          "execution_count": 51,
          "metadata": {},
          "output_type": "execute_result"
        }
      ],
      "source": [
        "#neural network\n",
        "from sklearn.neural_network import MLPRegressor\n",
        "\n",
        "mlp = MLPRegressor(hidden_layer_sizes=(200,200,200), max_iter=1000, alpha=0.1,\n",
        "                        solver='adam',verbose=True,  random_state=21,tol=0.000000001,shuffle=True)\n",
        "mlp.fit(x_train,y_train)\n",
        "mlp.score(x_test, y_test)"
      ]
    },
    {
      "cell_type": "code",
      "execution_count": 52,
      "metadata": {},
      "outputs": [],
      "source": [
        "#save mlp model\n",
        "filename = 'finalized_model_mlp.sav'\n",
        "pickle.dump(mlp, open(filename, 'wb'))"
      ]
    },
    {
      "cell_type": "code",
      "execution_count": null,
      "metadata": {},
      "outputs": [],
      "source": []
    }
  ],
  "metadata": {
    "colab": {
      "provenance": []
    },
    "kernelspec": {
      "display_name": "Python 3.10.6 64-bit",
      "language": "python",
      "name": "python3"
    },
    "language_info": {
      "codemirror_mode": {
        "name": "ipython",
        "version": 3
      },
      "file_extension": ".py",
      "mimetype": "text/x-python",
      "name": "python",
      "nbconvert_exporter": "python",
      "pygments_lexer": "ipython3",
      "version": "3.10.6"
    },
    "vscode": {
      "interpreter": {
        "hash": "916dbcbb3f70747c44a77c7bcd40155683ae19c65e1c03b4aa3499c5328201f1"
      }
    }
  },
  "nbformat": 4,
  "nbformat_minor": 0
}
